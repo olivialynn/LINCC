{
 "cells": [
  {
   "cell_type": "markdown",
   "id": "4ee0834e",
   "metadata": {},
   "source": [
    "# Tract/Patch LSDB Search Fn: Looking for skymaps used in LSST "
   ]
  },
  {
   "cell_type": "markdown",
   "id": "6fe8a3a0",
   "metadata": {},
   "source": [
    "*Intro code borrowed from:*  \n",
    "https://github.com/lsst-sitcom/linccf/blob/main/internal/2025-02/skymap_fun.ipynb"
   ]
  },
  {
   "cell_type": "code",
   "execution_count": 4,
   "id": "bb95c3f7",
   "metadata": {},
   "outputs": [],
   "source": [
    "import lsst.daf.butler as dafButler"
   ]
  },
  {
   "cell_type": "code",
   "execution_count": null,
   "id": "2e9a3892",
   "metadata": {},
   "outputs": [],
   "source": [
    "!butler query-collections /repo/embargo \"*/DRP/*\""
   ]
  },
  {
   "cell_type": "code",
   "execution_count": 39,
   "id": "059dfb74",
   "metadata": {},
   "outputs": [],
   "source": [
    "config = \"/repo/embargo\"\n",
    "butler = dafButler.Butler(config, collections=\"LSSTCam/runs/DRP/20250415_20250422/d_2025_04_23/DM-50409\")"
   ]
  },
  {
   "cell_type": "code",
   "execution_count": 40,
   "id": "301a555a",
   "metadata": {},
   "outputs": [
    {
     "data": {
      "text/plain": [
       "[DatasetType('skyMap', {skymap}, SkyMap),\n",
       " DatasetType('sky', {band, instrument, detector, physical_filter}, ExposureF, isCalibration=True),\n",
       " DatasetType('skyCorr', {band, instrument, day_obs, detector, physical_filter, visit}, Background),\n",
       " DatasetType('skyCorr_metadata', {band, instrument, day_obs, physical_filter, visit}, TaskMetadata),\n",
       " DatasetType('skyCorr_config', {}, Config),\n",
       " DatasetType('skyCorr_log', {band, instrument, day_obs, physical_filter, visit}, ButlerLogRecords)]"
      ]
     },
     "execution_count": 40,
     "metadata": {},
     "output_type": "execute_result"
    }
   ],
   "source": [
    "butler.registry.queryDatasetTypes(\"sky*\")"
   ]
  },
  {
   "cell_type": "code",
   "execution_count": 41,
   "id": "3473bcae",
   "metadata": {},
   "outputs": [
    {
     "data": {
      "text/plain": [
       "[DatasetRef(DatasetType('skyMap', {skymap}, SkyMap), {skymap: 'DC2_cells_v1'}, run='skymaps', id=b7d4b4f1-e108-4570-bbf5-da6093179ac8),\n",
       " DatasetRef(DatasetType('skyMap', {skymap}, SkyMap), {skymap: 'hsc_rings_v1'}, run='skymaps', id=6e7fc928-0dc3-4e1b-ae63-5fb63be46216),\n",
       " DatasetRef(DatasetType('skyMap', {skymap}, SkyMap), {skymap: 'latiss_v1'}, run='skymaps', id=f677ff86-2b1c-4094-9dad-e39395052cd1),\n",
       " DatasetRef(DatasetType('skyMap', {skymap}, SkyMap), {skymap: 'lsst_cells_v1'}, run='skymaps', id=857e0e80-8d08-44f4-a81b-84227b064d5b),\n",
       " DatasetRef(DatasetType('skyMap', {skymap}, SkyMap), {skymap: 'ops_rehersal_prep_2k_v1'}, run='skymaps', id=8f5f7e7a-c647-4a88-b8e7-6e2406d071b8),\n",
       " DatasetRef(DatasetType('skyMap', {skymap}, SkyMap), {skymap: 'discrete_comcam_rgb_ecdfs_v1'}, run='skymaps', id=1b399fae-8a7e-4633-833d-b713a93d44a3),\n",
       " DatasetRef(DatasetType('skyMap', {skymap}, SkyMap), {skymap: 'discrete_comcam_rgb_seagull_v1'}, run='skymaps', id=ca37ba9c-f4ff-4ab1-a27b-7930f4f7739b),\n",
       " DatasetRef(DatasetType('skyMap', {skymap}, SkyMap), {skymap: 'discrete_comcam_rgb_Rubin_SV_38_7_v1'}, run='skymaps', id=bd85bf9e-6836-4735-a053-83f0ef39ee3e),\n",
       " DatasetRef(DatasetType('skyMap', {skymap}, SkyMap), {skymap: 'discrete_comcam_rgb_74_Tuc_v1'}, run='skymaps', id=27cba923-fc26-4a0e-bb2d-0d689e381483),\n",
       " DatasetRef(DatasetType('skyMap', {skymap}, SkyMap), {skymap: 'discrete_comcam_rgb_Fornax_dSph_v1'}, run='skymaps', id=2aafabf0-a414-46f2-a5f5-b7abe8997cbd),\n",
       " DatasetRef(DatasetType('skyMap', {skymap}, SkyMap), {skymap: 'discrete_comcam_rgb_EDFS_v1'}, run='skymaps', id=3407941e-e7ba-4aba-b7ef-33625333991d),\n",
       " DatasetRef(DatasetType('skyMap', {skymap}, SkyMap), {skymap: 'discrete_comcam_rgb_Rubin_SV_095_-25_v1'}, run='skymaps', id=1715e98f-65ba-497e-963f-03844f9c50a5),\n",
       " DatasetRef(DatasetType('skyMap', {skymap}, SkyMap), {skymap: 'discrete_lsstcam_rgb_m49_v1'}, run='skymaps', id=5ec8767d-c483-4455-9f25-8b38bdf47122),\n",
       " DatasetRef(DatasetType('skyMap', {skymap}, SkyMap), {skymap: 'discrete_lsstcam_rgb_rubin_sv_216_minus_17_v1'}, run='skymaps', id=b4a8c7d8-32f0-4b83-854a-1da61b9249cd),\n",
       " DatasetRef(DatasetType('skyMap', {skymap}, SkyMap), {skymap: 'discrete_lsstcam_rgb_carina_v1'}, run='skymaps', id=201ca1cd-8688-4041-be51-f38af63ceb97),\n",
       " DatasetRef(DatasetType('skyMap', {skymap}, SkyMap), {skymap: 'discrete_lsstcam_rgb_rubin_sv_225_minus_40_v1'}, run='skymaps', id=f10d2930-3e78-4604-9ca5-8f8dc641f973)]"
      ]
     },
     "execution_count": 41,
     "metadata": {},
     "output_type": "execute_result"
    }
   ],
   "source": [
    "refs = butler.registry.queryDatasets(\"skyMap\")#, collections=\"LSSTComCam/raw/DP1/DM-48240\")\n",
    "list(refs)"
   ]
  },
  {
   "cell_type": "code",
   "execution_count": 51,
   "id": "0f2ff22d",
   "metadata": {},
   "outputs": [
    {
     "data": {
      "text/plain": [
       "DatasetRef(DatasetType('skyMap', {skymap}, SkyMap), {skymap: 'lsst_cells_v1'}, run='skymaps', id=857e0e80-8d08-44f4-a81b-84227b064d5b)"
      ]
     },
     "execution_count": 51,
     "metadata": {},
     "output_type": "execute_result"
    }
   ],
   "source": [
    "skymap = None\n",
    "\n",
    "for ref in refs:\n",
    "    if ref.dataId[\"skymap\"] == \"lsst_cells_v1\":\n",
    "        skymap = ref\n",
    "        break\n",
    "\n",
    "skymap"
   ]
  },
  {
   "cell_type": "code",
   "execution_count": 55,
   "id": "0aef056a",
   "metadata": {},
   "outputs": [
    {
     "data": {
      "text/plain": [
       "<lsst.skymap.ringsSkyMap.RingsSkyMap at 0x7fc0358f7f80>"
      ]
     },
     "execution_count": 55,
     "metadata": {},
     "output_type": "execute_result"
    }
   ],
   "source": [
    "butler.get(skymap)"
   ]
  },
  {
   "cell_type": "code",
   "execution_count": 56,
   "id": "82fdf104",
   "metadata": {},
   "outputs": [
    {
     "data": {
      "text/plain": [
       "ResourcePath(\"s3://embargo@rubin-summit-users/skymaps/skyMap/skyMap_lsst_cells_v1_skymaps.pickle\")"
      ]
     },
     "execution_count": 56,
     "metadata": {},
     "output_type": "execute_result"
    }
   ],
   "source": [
    "skymap_uri = butler.getURI(skymap)\n",
    "skymap_uri"
   ]
  },
  {
   "cell_type": "code",
   "execution_count": 58,
   "id": "72666fdc",
   "metadata": {},
   "outputs": [],
   "source": [
    "import os\n",
    "from lsst.resources import ResourcePath"
   ]
  },
  {
   "cell_type": "code",
   "execution_count": 62,
   "id": "962f8160",
   "metadata": {},
   "outputs": [
    {
     "name": "stdout",
     "output_type": "stream",
     "text": [
      "File file:///sdf/home/o/olynn/skymap/skyMap_lsst_cells_v1_skymaps.pickle downloaded successfully.\n"
     ]
    }
   ],
   "source": [
    "target_dir = \"/sdf/home/o/olynn/\"\n",
    "base = ResourcePath(os.path.join(target_dir, \"skymap\"), forceDirectory=True)\n",
    "new_uri = base.join(skymap_uri.basename())\n",
    "if os.path.exists(new_uri.path):\n",
    "    print(f\"File {new_uri} already exists. Skipping download.\")\n",
    "else:\n",
    "    new_uri.transfer_from(skymap_uri, transfer=\"copy\")\n",
    "    print(f\"File {new_uri} downloaded successfully.\")"
   ]
  }
 ],
 "metadata": {
  "kernelspec": {
   "display_name": "Python 3 (ipykernel)",
   "language": "python",
   "name": "python3"
  },
  "language_info": {
   "codemirror_mode": {
    "name": "ipython",
    "version": 3
   },
   "file_extension": ".py",
   "mimetype": "text/x-python",
   "name": "python",
   "nbconvert_exporter": "python",
   "pygments_lexer": "ipython3",
   "version": "3.12.9"
  }
 },
 "nbformat": 4,
 "nbformat_minor": 5
}
