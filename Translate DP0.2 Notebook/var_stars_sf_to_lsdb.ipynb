{
 "cells": [
  {
   "cell_type": "markdown",
   "id": "a26210ed-4ba3-400d-8fda-db03bb3823bc",
   "metadata": {
    "execution": {
     "iopub.execute_input": "2023-04-12T13:21:19.108531Z",
     "iopub.status.busy": "2023-04-12T13:21:19.107631Z",
     "iopub.status.idle": "2023-04-12T13:21:19.113587Z",
     "shell.execute_reply": "2023-04-12T13:21:19.112860Z",
     "shell.execute_reply.started": "2023-04-12T13:21:19.108494Z"
    },
    "tags": []
   },
   "source": [
    "# HATS Translation of: Investigating Variable Stars in DP0.2\n",
    "**Original Author:** Sabina Ustamujic  \n",
    "**Translated to HATS by:** Olivia Lynn\n",
    "\n",
    "- Last verified to run: 2023-04-14\n",
    "- LSST Science Piplines version: Weekly 2023_07\n",
    "- Container Size: medium"
   ]
  },
  {
   "cell_type": "markdown",
   "id": "cf447cc6-9142-49dd-9ce7-dea4c4b621a5",
   "metadata": {
    "execution": {
     "iopub.execute_input": "2023-04-12T13:37:58.862417Z",
     "iopub.status.busy": "2023-04-12T13:37:58.861576Z",
     "iopub.status.idle": "2023-04-12T13:37:58.867310Z",
     "shell.execute_reply": "2023-04-12T13:37:58.866529Z",
     "shell.execute_reply.started": "2023-04-12T13:37:58.862390Z"
    }
   },
   "source": [
    "**Description:** Use catalog data to identify variable stars, plot their lightcurves and calculate their structure function.  \n",
    "**LSST Data Products:** TAP tables dp02_dc2_catalogs.Object, MatchesTruth, TruthSummary, CcdVisit, DiaObject, DiaSource, ForcedSourceOnDiaObject  \n",
    "**Packages:** numpy, matplotlib, lsst.rsp.get_tap_service, pandas, numba    \n",
    "**Credit:** Developed by Sabina Ustamujic. Please consider acknowledging Sabina if this notebook is used for the preparation of journal articles, software releases, or other notebooks. This notebook is based in part on material originally developed by Jeff Carlin, Melissa Graham, Ryan Lau and the Rubin Community Engagement Team for Data Preview 0. Special thanks to Laura Venuti and Sara Bonito for the support in the analysis.  \n"
   ]
  },
  {
   "cell_type": "markdown",
   "id": "d741304f-984f-4c76-ab55-5aa62e51c509",
   "metadata": {},
   "source": [
    "## 1. Introduction"
   ]
  },
  {
   "cell_type": "markdown",
   "id": "caac716d",
   "metadata": {},
   "source": [
    "### Description"
   ]
  },
  {
   "cell_type": "markdown",
   "id": "15ecbc0a",
   "metadata": {},
   "source": [
    "This notebook demonstrates the use of the TAP service to query the time-domain data products to select variable stars, get their light curves, and calculate their structure functions.\n",
    "\n",
    "In Section 2 the data products of difference image analysis (DIA), in particular the lightcurve summary statistic parameters available in the `DiaObjects` table, are used to identify a sample of variable stars candidates from the DP0.2 data set and extract their lightcurves using the time-series photometry from `ForcedSourceOnDiaObject` table. Then the coordinates of the identified objects are used to find them in the `Object` table, and check if they are classified as variable stars in the `TruthSummary` table.\n",
    "\n",
    "In Section 3 the extracted lightcurves for each object are used to calculate their structure functions (SFs). \n",
    "The method of SFs (Simonetti et al. 1985 ; Hughes et al. 1992 ; de Vries et al. 2003) was developed to probe the characteristic timescales of variability from lightcurves and it has been more recently implemented to study Young Stellar Objects (YSOs) variability by Sergison et al. (2020) and applied by Venuti et al. (2021).\n",
    "The method consists of extracting every timescale of variability τ encompassed by the time series and, for each τ, computing the average amplitude of normalized flux variability among all pairs of points in the light curve that are spaced by that time interval τ. The SF is then defined as the average variability amplitude measured within the light curve as a function of τ.\n",
    "\n",
    "Finally two examples of YSO lightcurves are imported and the SF analysis is performed as was done in the previous section."
   ]
  },
  {
   "cell_type": "markdown",
   "id": "a1fac79d-9fbd-40c1-b5d8-591e678d1102",
   "metadata": {},
   "source": [
    "### 1.1 Package imports"
   ]
  },
  {
   "cell_type": "code",
   "execution_count": 2,
   "id": "679c04f5",
   "metadata": {},
   "outputs": [],
   "source": [
    "# NOTE: use data.lsdb.io/rubin\n",
    "# as long as you're in USDF\n",
    "# latest release is weird bc tables changed names - not called diaForcedSource anymore, something else"
   ]
  },
  {
   "cell_type": "code",
   "execution_count": 3,
   "id": "225a57f7",
   "metadata": {},
   "outputs": [],
   "source": [
    "#LIV\n",
    "import hats\n",
    "import lsdb\n",
    "from hats.io.validation import is_valid_catalog\n",
    "from dask.distributed import Client"
   ]
  },
  {
   "cell_type": "code",
   "execution_count": 4,
   "id": "4089e9cc",
   "metadata": {},
   "outputs": [
    {
     "data": {
      "text/html": [
       "<div>\n",
       "    <div style=\"width: 24px; height: 24px; background-color: #e1e1e1; border: 3px solid #9D9D9D; border-radius: 5px; position: absolute;\"> </div>\n",
       "    <div style=\"margin-left: 48px;\">\n",
       "        <h3 style=\"margin-bottom: 0px;\">Client</h3>\n",
       "        <p style=\"color: #9D9D9D; margin-bottom: 0px;\">Client-e5964f55-0a96-11f0-8bed-506b4bc75c48</p>\n",
       "        <table style=\"width: 100%; text-align: left;\">\n",
       "\n",
       "        <tr>\n",
       "        \n",
       "            <td style=\"text-align: left;\"><strong>Connection method:</strong> Cluster object</td>\n",
       "            <td style=\"text-align: left;\"><strong>Cluster type:</strong> distributed.LocalCluster</td>\n",
       "        \n",
       "        </tr>\n",
       "\n",
       "        \n",
       "            <tr>\n",
       "                <td style=\"text-align: left;\">\n",
       "                    <strong>Dashboard: </strong> <a href=\"http://127.0.0.1:8787/status\" target=\"_blank\">http://127.0.0.1:8787/status</a>\n",
       "                </td>\n",
       "                <td style=\"text-align: left;\"></td>\n",
       "            </tr>\n",
       "        \n",
       "\n",
       "        </table>\n",
       "\n",
       "        \n",
       "\n",
       "        \n",
       "            <details>\n",
       "            <summary style=\"margin-bottom: 20px;\"><h3 style=\"display: inline;\">Cluster Info</h3></summary>\n",
       "            <div class=\"jp-RenderedHTMLCommon jp-RenderedHTML jp-mod-trusted jp-OutputArea-output\">\n",
       "    <div style=\"width: 24px; height: 24px; background-color: #e1e1e1; border: 3px solid #9D9D9D; border-radius: 5px; position: absolute;\">\n",
       "    </div>\n",
       "    <div style=\"margin-left: 48px;\">\n",
       "        <h3 style=\"margin-bottom: 0px; margin-top: 0px;\">LocalCluster</h3>\n",
       "        <p style=\"color: #9D9D9D; margin-bottom: 0px;\">191b5f42</p>\n",
       "        <table style=\"width: 100%; text-align: left;\">\n",
       "            <tr>\n",
       "                <td style=\"text-align: left;\">\n",
       "                    <strong>Dashboard:</strong> <a href=\"http://127.0.0.1:8787/status\" target=\"_blank\">http://127.0.0.1:8787/status</a>\n",
       "                </td>\n",
       "                <td style=\"text-align: left;\">\n",
       "                    <strong>Workers:</strong> 4\n",
       "                </td>\n",
       "            </tr>\n",
       "            <tr>\n",
       "                <td style=\"text-align: left;\">\n",
       "                    <strong>Total threads:</strong> 28\n",
       "                </td>\n",
       "                <td style=\"text-align: left;\">\n",
       "                    <strong>Total memory:</strong> 405.17 GiB\n",
       "                </td>\n",
       "            </tr>\n",
       "            \n",
       "            <tr>\n",
       "    <td style=\"text-align: left;\"><strong>Status:</strong> running</td>\n",
       "    <td style=\"text-align: left;\"><strong>Using processes:</strong> True</td>\n",
       "</tr>\n",
       "\n",
       "            \n",
       "        </table>\n",
       "\n",
       "        <details>\n",
       "            <summary style=\"margin-bottom: 20px;\">\n",
       "                <h3 style=\"display: inline;\">Scheduler Info</h3>\n",
       "            </summary>\n",
       "\n",
       "            <div style=\"\">\n",
       "    <div>\n",
       "        <div style=\"width: 24px; height: 24px; background-color: #FFF7E5; border: 3px solid #FF6132; border-radius: 5px; position: absolute;\"> </div>\n",
       "        <div style=\"margin-left: 48px;\">\n",
       "            <h3 style=\"margin-bottom: 0px;\">Scheduler</h3>\n",
       "            <p style=\"color: #9D9D9D; margin-bottom: 0px;\">Scheduler-d36fdad4-e3b5-46c1-901f-6ac8d94fac89</p>\n",
       "            <table style=\"width: 100%; text-align: left;\">\n",
       "                <tr>\n",
       "                    <td style=\"text-align: left;\">\n",
       "                        <strong>Comm:</strong> tcp://127.0.0.1:45695\n",
       "                    </td>\n",
       "                    <td style=\"text-align: left;\">\n",
       "                        <strong>Workers:</strong> 4\n",
       "                    </td>\n",
       "                </tr>\n",
       "                <tr>\n",
       "                    <td style=\"text-align: left;\">\n",
       "                        <strong>Dashboard:</strong> <a href=\"http://127.0.0.1:8787/status\" target=\"_blank\">http://127.0.0.1:8787/status</a>\n",
       "                    </td>\n",
       "                    <td style=\"text-align: left;\">\n",
       "                        <strong>Total threads:</strong> 28\n",
       "                    </td>\n",
       "                </tr>\n",
       "                <tr>\n",
       "                    <td style=\"text-align: left;\">\n",
       "                        <strong>Started:</strong> Just now\n",
       "                    </td>\n",
       "                    <td style=\"text-align: left;\">\n",
       "                        <strong>Total memory:</strong> 405.17 GiB\n",
       "                    </td>\n",
       "                </tr>\n",
       "            </table>\n",
       "        </div>\n",
       "    </div>\n",
       "\n",
       "    <details style=\"margin-left: 48px;\">\n",
       "        <summary style=\"margin-bottom: 20px;\">\n",
       "            <h3 style=\"display: inline;\">Workers</h3>\n",
       "        </summary>\n",
       "\n",
       "        \n",
       "        <div style=\"margin-bottom: 20px;\">\n",
       "            <div style=\"width: 24px; height: 24px; background-color: #DBF5FF; border: 3px solid #4CC9FF; border-radius: 5px; position: absolute;\"> </div>\n",
       "            <div style=\"margin-left: 48px;\">\n",
       "            <details>\n",
       "                <summary>\n",
       "                    <h4 style=\"margin-bottom: 0px; display: inline;\">Worker: 0</h4>\n",
       "                </summary>\n",
       "                <table style=\"width: 100%; text-align: left;\">\n",
       "                    <tr>\n",
       "                        <td style=\"text-align: left;\">\n",
       "                            <strong>Comm: </strong> tcp://127.0.0.1:39421\n",
       "                        </td>\n",
       "                        <td style=\"text-align: left;\">\n",
       "                            <strong>Total threads: </strong> 7\n",
       "                        </td>\n",
       "                    </tr>\n",
       "                    <tr>\n",
       "                        <td style=\"text-align: left;\">\n",
       "                            <strong>Dashboard: </strong> <a href=\"http://127.0.0.1:41831/status\" target=\"_blank\">http://127.0.0.1:41831/status</a>\n",
       "                        </td>\n",
       "                        <td style=\"text-align: left;\">\n",
       "                            <strong>Memory: </strong> 101.29 GiB\n",
       "                        </td>\n",
       "                    </tr>\n",
       "                    <tr>\n",
       "                        <td style=\"text-align: left;\">\n",
       "                            <strong>Nanny: </strong> tcp://127.0.0.1:40669\n",
       "                        </td>\n",
       "                        <td style=\"text-align: left;\"></td>\n",
       "                    </tr>\n",
       "                    <tr>\n",
       "                        <td colspan=\"2\" style=\"text-align: left;\">\n",
       "                            <strong>Local directory: </strong> /lscratch/olynn/dask-scratch-space/worker-mhsu17z5\n",
       "                        </td>\n",
       "                    </tr>\n",
       "\n",
       "                    \n",
       "\n",
       "                    \n",
       "\n",
       "                </table>\n",
       "            </details>\n",
       "            </div>\n",
       "        </div>\n",
       "        \n",
       "        <div style=\"margin-bottom: 20px;\">\n",
       "            <div style=\"width: 24px; height: 24px; background-color: #DBF5FF; border: 3px solid #4CC9FF; border-radius: 5px; position: absolute;\"> </div>\n",
       "            <div style=\"margin-left: 48px;\">\n",
       "            <details>\n",
       "                <summary>\n",
       "                    <h4 style=\"margin-bottom: 0px; display: inline;\">Worker: 1</h4>\n",
       "                </summary>\n",
       "                <table style=\"width: 100%; text-align: left;\">\n",
       "                    <tr>\n",
       "                        <td style=\"text-align: left;\">\n",
       "                            <strong>Comm: </strong> tcp://127.0.0.1:39371\n",
       "                        </td>\n",
       "                        <td style=\"text-align: left;\">\n",
       "                            <strong>Total threads: </strong> 7\n",
       "                        </td>\n",
       "                    </tr>\n",
       "                    <tr>\n",
       "                        <td style=\"text-align: left;\">\n",
       "                            <strong>Dashboard: </strong> <a href=\"http://127.0.0.1:46557/status\" target=\"_blank\">http://127.0.0.1:46557/status</a>\n",
       "                        </td>\n",
       "                        <td style=\"text-align: left;\">\n",
       "                            <strong>Memory: </strong> 101.29 GiB\n",
       "                        </td>\n",
       "                    </tr>\n",
       "                    <tr>\n",
       "                        <td style=\"text-align: left;\">\n",
       "                            <strong>Nanny: </strong> tcp://127.0.0.1:46011\n",
       "                        </td>\n",
       "                        <td style=\"text-align: left;\"></td>\n",
       "                    </tr>\n",
       "                    <tr>\n",
       "                        <td colspan=\"2\" style=\"text-align: left;\">\n",
       "                            <strong>Local directory: </strong> /lscratch/olynn/dask-scratch-space/worker-4p_bubvu\n",
       "                        </td>\n",
       "                    </tr>\n",
       "\n",
       "                    \n",
       "\n",
       "                    \n",
       "\n",
       "                </table>\n",
       "            </details>\n",
       "            </div>\n",
       "        </div>\n",
       "        \n",
       "        <div style=\"margin-bottom: 20px;\">\n",
       "            <div style=\"width: 24px; height: 24px; background-color: #DBF5FF; border: 3px solid #4CC9FF; border-radius: 5px; position: absolute;\"> </div>\n",
       "            <div style=\"margin-left: 48px;\">\n",
       "            <details>\n",
       "                <summary>\n",
       "                    <h4 style=\"margin-bottom: 0px; display: inline;\">Worker: 2</h4>\n",
       "                </summary>\n",
       "                <table style=\"width: 100%; text-align: left;\">\n",
       "                    <tr>\n",
       "                        <td style=\"text-align: left;\">\n",
       "                            <strong>Comm: </strong> tcp://127.0.0.1:34455\n",
       "                        </td>\n",
       "                        <td style=\"text-align: left;\">\n",
       "                            <strong>Total threads: </strong> 7\n",
       "                        </td>\n",
       "                    </tr>\n",
       "                    <tr>\n",
       "                        <td style=\"text-align: left;\">\n",
       "                            <strong>Dashboard: </strong> <a href=\"http://127.0.0.1:36751/status\" target=\"_blank\">http://127.0.0.1:36751/status</a>\n",
       "                        </td>\n",
       "                        <td style=\"text-align: left;\">\n",
       "                            <strong>Memory: </strong> 101.29 GiB\n",
       "                        </td>\n",
       "                    </tr>\n",
       "                    <tr>\n",
       "                        <td style=\"text-align: left;\">\n",
       "                            <strong>Nanny: </strong> tcp://127.0.0.1:45741\n",
       "                        </td>\n",
       "                        <td style=\"text-align: left;\"></td>\n",
       "                    </tr>\n",
       "                    <tr>\n",
       "                        <td colspan=\"2\" style=\"text-align: left;\">\n",
       "                            <strong>Local directory: </strong> /lscratch/olynn/dask-scratch-space/worker-6hipxy75\n",
       "                        </td>\n",
       "                    </tr>\n",
       "\n",
       "                    \n",
       "\n",
       "                    \n",
       "\n",
       "                </table>\n",
       "            </details>\n",
       "            </div>\n",
       "        </div>\n",
       "        \n",
       "        <div style=\"margin-bottom: 20px;\">\n",
       "            <div style=\"width: 24px; height: 24px; background-color: #DBF5FF; border: 3px solid #4CC9FF; border-radius: 5px; position: absolute;\"> </div>\n",
       "            <div style=\"margin-left: 48px;\">\n",
       "            <details>\n",
       "                <summary>\n",
       "                    <h4 style=\"margin-bottom: 0px; display: inline;\">Worker: 3</h4>\n",
       "                </summary>\n",
       "                <table style=\"width: 100%; text-align: left;\">\n",
       "                    <tr>\n",
       "                        <td style=\"text-align: left;\">\n",
       "                            <strong>Comm: </strong> tcp://127.0.0.1:38767\n",
       "                        </td>\n",
       "                        <td style=\"text-align: left;\">\n",
       "                            <strong>Total threads: </strong> 7\n",
       "                        </td>\n",
       "                    </tr>\n",
       "                    <tr>\n",
       "                        <td style=\"text-align: left;\">\n",
       "                            <strong>Dashboard: </strong> <a href=\"http://127.0.0.1:44833/status\" target=\"_blank\">http://127.0.0.1:44833/status</a>\n",
       "                        </td>\n",
       "                        <td style=\"text-align: left;\">\n",
       "                            <strong>Memory: </strong> 101.29 GiB\n",
       "                        </td>\n",
       "                    </tr>\n",
       "                    <tr>\n",
       "                        <td style=\"text-align: left;\">\n",
       "                            <strong>Nanny: </strong> tcp://127.0.0.1:39511\n",
       "                        </td>\n",
       "                        <td style=\"text-align: left;\"></td>\n",
       "                    </tr>\n",
       "                    <tr>\n",
       "                        <td colspan=\"2\" style=\"text-align: left;\">\n",
       "                            <strong>Local directory: </strong> /lscratch/olynn/dask-scratch-space/worker-5ws_fg8k\n",
       "                        </td>\n",
       "                    </tr>\n",
       "\n",
       "                    \n",
       "\n",
       "                    \n",
       "\n",
       "                </table>\n",
       "            </details>\n",
       "            </div>\n",
       "        </div>\n",
       "        \n",
       "\n",
       "    </details>\n",
       "</div>\n",
       "\n",
       "        </details>\n",
       "    </div>\n",
       "</div>\n",
       "            </details>\n",
       "        \n",
       "\n",
       "    </div>\n",
       "</div>"
      ],
      "text/plain": [
       "<Client: 'tcp://127.0.0.1:45695' processes=4 threads=28, memory=405.17 GiB>"
      ]
     },
     "execution_count": 4,
     "metadata": {},
     "output_type": "execute_result"
    }
   ],
   "source": [
    "#LIV\n",
    "client = Client(n_workers=4, memory_limit=\"auto\")\n",
    "client"
   ]
  },
  {
   "cell_type": "code",
   "execution_count": 6,
   "id": "5dc07f88-4579-4369-bb0f-2d0d28300a5b",
   "metadata": {
    "execution": {
     "iopub.execute_input": "2023-04-14T08:21:02.277629Z",
     "iopub.status.busy": "2023-04-14T08:21:02.276834Z",
     "iopub.status.idle": "2023-04-14T08:21:02.281444Z",
     "shell.execute_reply": "2023-04-14T08:21:02.280794Z",
     "shell.execute_reply.started": "2023-04-14T08:21:02.277595Z"
    },
    "tags": []
   },
   "outputs": [],
   "source": [
    "# General\n",
    "import numpy as np\n",
    "import matplotlib.pyplot as plt\n",
    "plt.style.use('tableau-colorblind10')\n",
    "\n",
    "# LSST package for TAP queries\n",
    "#from lsst.rsp import get_tap_service\n",
    "\n",
    "# SF calculation\n",
    "import pandas as pd\n",
    "from numba import njit"
   ]
  },
  {
   "cell_type": "markdown",
   "id": "86dc92a0-ab62-47ca-a0fb-944349c756cf",
   "metadata": {},
   "source": [
    "### 1.2 Define functions and parameters"
   ]
  },
  {
   "cell_type": "markdown",
   "id": "6d0d94a7-d392-4f4c-9fce-e9b0f4b93350",
   "metadata": {},
   "source": [
    "Set `matplotlib` to show plots inline, within the notebook."
   ]
  },
  {
   "cell_type": "code",
   "execution_count": 7,
   "id": "890ca263-2e71-4f05-980b-a88614d05149",
   "metadata": {
    "execution": {
     "iopub.execute_input": "2023-04-14T08:21:19.178152Z",
     "iopub.status.busy": "2023-04-14T08:21:19.177431Z",
     "iopub.status.idle": "2023-04-14T08:21:19.182623Z",
     "shell.execute_reply": "2023-04-14T08:21:19.181849Z",
     "shell.execute_reply.started": "2023-04-14T08:21:19.178118Z"
    },
    "tags": []
   },
   "outputs": [],
   "source": [
    "%matplotlib inline"
   ]
  },
  {
   "cell_type": "markdown",
   "id": "a56a43b1-0412-4075-ad88-cf0e2337f022",
   "metadata": {},
   "source": [
    "Set up colors and plot symbols corresponding to the ugrizy bands. These colors are the same as those used for ugrizy bands in Dark Energy Survey (DES) publications, and in most tutorial notebooks."
   ]
  },
  {
   "cell_type": "code",
   "execution_count": 8,
   "id": "4d92dda8-91f5-4cb8-bbef-d2309add0afb",
   "metadata": {
    "execution": {
     "iopub.execute_input": "2023-04-14T08:21:28.887525Z",
     "iopub.status.busy": "2023-04-14T08:21:28.886997Z",
     "iopub.status.idle": "2023-04-14T08:21:28.892780Z",
     "shell.execute_reply": "2023-04-14T08:21:28.892015Z",
     "shell.execute_reply.started": "2023-04-14T08:21:28.887476Z"
    },
    "tags": []
   },
   "outputs": [],
   "source": [
    "filters = ['u', 'g', 'r', 'i', 'z', 'y']\n",
    "filters += ['V', 'G', 'R', 'I', 'B']   # added for V2492_Cyg (Section 4)\n",
    "\n",
    "symbols = {'u': 'o', 'g': '^', 'r': 'v', 'i': 's', 'z': '*', 'y': 'p'}\n",
    "symbols.update({'G':'.', 'R':'.', 'I':'.', 'V':'.', 'B':'.'})   # added for V2492_Cyg (Section 4)\n",
    "\n",
    "colors = {'u': '#56b4e9', 'g': '#008060', 'r': '#ff4000',\n",
    "          'i': '#850000', 'z': '#6600cc', 'y': '#000000'}\n",
    "colors.update({'V': '#56b4e9', 'G': '#008060', 'R': '#ff4000', 'I': '#850000', 'B': '#000000'})   # added for V2492_Cyg (Section 4)"
   ]
  },
  {
   "cell_type": "markdown",
   "id": "96327120-df5b-4684-8040-49077273a5c6",
   "metadata": {},
   "source": [
    "Start the TAP service, which we will use for all data retrieval in this notebook."
   ]
  },
  {
   "cell_type": "code",
   "execution_count": 9,
   "id": "b04a04ae-a1c4-454b-882c-9e93f5746def",
   "metadata": {
    "execution": {
     "iopub.execute_input": "2023-04-14T08:22:13.888319Z",
     "iopub.status.busy": "2023-04-14T08:22:13.887439Z",
     "iopub.status.idle": "2023-04-14T08:22:13.972801Z",
     "shell.execute_reply": "2023-04-14T08:22:13.972110Z",
     "shell.execute_reply.started": "2023-04-14T08:22:13.888283Z"
    },
    "tags": []
   },
   "outputs": [],
   "source": [
    "#service = get_tap_service()"
   ]
  },
  {
   "cell_type": "markdown",
   "id": "d8488f1b-ba0c-4164-82a4-bc8baf1d4042",
   "metadata": {},
   "source": [
    "## 2. Identify candidate variable stars from Catalogs\n",
    "\n",
    "Data products from difference image analysis (DIA), where sources are detected and measured on the difference image resulting from subtracting an approriately scaled deep coadd template of the same sky area from a processed visit image (PVI), are a good place to check for variable objects (see 07b Tutorial Notebook).\n",
    "\n",
    "The three DIA products used here are:\n",
    "\n",
    "- `DiaObject`: table of all spatially unique objects detected in all difference images (all `DiaSources` associated by coordinate)\n",
    "- `DiaSource`: table of sources detected in the difference images\n",
    "- `ForcedSourceOnDiaObject`: table of forced photometry in all PVI and all difference images at the location of all `DiaObjects`"
   ]
  },
  {
   "cell_type": "markdown",
   "id": "d6749595-3c70-46ea-8ce1-c37741f6c43a",
   "metadata": {},
   "source": [
    "### 2.1 Query DiaObject and ForcedSourceOnDiaObject to Retrieve Candidates and Photometry\n",
    "\n",
    "The DP0.2 `DiaObject` table contains summary statistics for each object, which can be used to identify candidate variables.\n",
    "\n",
    "Here are the criteria we apply to our selection from `DiaObject`:\n",
    "\n",
    " 1. `gTOTFluxSigma`/`gTOTFluxMean` > 0.15 -- the scatter in measured fluxes is larger than 15% relative to the mean\n",
    " 2. `gPSFluxNdata` > 60 -- at least 60 observations in g band\n",
    "\n",
    "The query below implements these criteria and performs a table JOIN between `DiaObject` and `ForcedSourceOnDiaObject` to extract the forced-photometry measurements, and between `ForcedSourceOnDiaObject` and `CcdVisit` tables in order to get the MJD of each visit. "
   ]
  },
  {
   "cell_type": "code",
   "execution_count": 27,
   "id": "5fb7ac98",
   "metadata": {},
   "outputs": [],
   "source": [
    "#LIV\n",
    "\n",
    "rubin_data = lsdb.read_hats(\n",
    "    '/sdf/data/rubin/shared/lsdb_commissioning/hats/w_2025_11/dia_object_lc', \n",
    "    margin_cache='/sdf/data/rubin/shared/lsdb_commissioning/hats/w_2025_11/dia_object_lc_5arcs',\n",
    "    columns=[\"diaObjectId\", \"ra\", \"dec\", \"diaSource\", \"diaObjectForcedSource\"]\n",
    "    )"
   ]
  },
  {
   "cell_type": "code",
   "execution_count": 28,
   "id": "167b02a4",
   "metadata": {},
   "outputs": [
    {
     "data": {
      "text/html": [
       "<div><strong>lsdb Catalog dia_object_lc:</strong></div><div>\n",
       "<style scoped>\n",
       "    .dataframe tbody tr th:only-of-type {\n",
       "        vertical-align: middle;\n",
       "    }\n",
       "\n",
       "    .dataframe tbody tr th {\n",
       "        vertical-align: top;\n",
       "    }\n",
       "\n",
       "    .dataframe thead th {\n",
       "        text-align: right;\n",
       "    }\n",
       "</style>\n",
       "<table border=\"1\" class=\"dataframe\">\n",
       "  <thead>\n",
       "    <tr style=\"text-align: right;\">\n",
       "      <th></th>\n",
       "      <th>diaObjectId</th>\n",
       "      <th>ra</th>\n",
       "      <th>dec</th>\n",
       "      <th>diaSource</th>\n",
       "      <th>diaObjectForcedSource</th>\n",
       "    </tr>\n",
       "    <tr>\n",
       "      <th>npartitions=237</th>\n",
       "      <th></th>\n",
       "      <th></th>\n",
       "      <th></th>\n",
       "      <th></th>\n",
       "      <th></th>\n",
       "    </tr>\n",
       "  </thead>\n",
       "  <tbody>\n",
       "    <tr>\n",
       "      <th>Order: 0, Pixel: 0</th>\n",
       "      <td>int64[pyarrow]</td>\n",
       "      <td>double[pyarrow]</td>\n",
       "      <td>double[pyarrow]</td>\n",
       "      <td>struct&lt;visit: list&lt;element: int64&gt;, detector: ...</td>\n",
       "      <td>struct&lt;parentObjectId: list&lt;element: int64&gt;, c...</td>\n",
       "    </tr>\n",
       "    <tr>\n",
       "      <th>Order: 0, Pixel: 4</th>\n",
       "      <td>...</td>\n",
       "      <td>...</td>\n",
       "      <td>...</td>\n",
       "      <td>...</td>\n",
       "      <td>...</td>\n",
       "    </tr>\n",
       "    <tr>\n",
       "      <th>...</th>\n",
       "      <td>...</td>\n",
       "      <td>...</td>\n",
       "      <td>...</td>\n",
       "      <td>...</td>\n",
       "      <td>...</td>\n",
       "    </tr>\n",
       "    <tr>\n",
       "      <th>Order: 6, Pixel: 35957</th>\n",
       "      <td>...</td>\n",
       "      <td>...</td>\n",
       "      <td>...</td>\n",
       "      <td>...</td>\n",
       "      <td>...</td>\n",
       "    </tr>\n",
       "    <tr>\n",
       "      <th>Order: 3, Pixel: 562</th>\n",
       "      <td>...</td>\n",
       "      <td>...</td>\n",
       "      <td>...</td>\n",
       "      <td>...</td>\n",
       "      <td>...</td>\n",
       "    </tr>\n",
       "  </tbody>\n",
       "</table>\n",
       "</div><div>The catalog has been loaded <strong>lazily</strong>, meaning no data has been read, only the catalog schema</div>"
      ],
      "text/plain": [
       "Dask NestedFrame Structure:\n",
       "                        diaObjectId               ra              dec                                                                                                                                                                                                                                                                                                                                                                                                                                                                                                                                                                                                                                                                                                                                                                                                                                                                                                                                                                                                                                                                                                                                                                                                                                                                                                                                                                                                                                                                                                                                                                                                                                                                                                                                                                                                                                                                                                                                                                                                                                                                                                                                                                                                                                                                                                                                                                                                                                                                                                                                                                                                                                                                                                                                                                                                                                                                                                                                                                                                                                                                                                                                                                                                                                                                                                                                                                                                                                                                                                                      diaSource                                                                                                                                                                                                                                                                                                                                                                                                                                                                                                                                                                                                                                                                                                                                                                                                                                                                                                                                                                                                                                                                                                                                                                                                                                                                                                                                                                                                                                                                                                                                                                                             diaObjectForcedSource\n",
       "npartitions=237                                                                                                                                                                                                                                                                                                                                                                                                                                                                                                                                                                                                                                                                                                                                                                                                                                                                                                                                                                                                                                                                                                                                                                                                                                                                                                                                                                                                                                                                                                                                                                                                                                                                                                                                                                                                                                                                                                                                                                                                                                                                                                                                                                                                                                                                                                                                                                                                                                                                                                                                                                                                                                                                                                                                                                                                                                                                                                                                                                                                                                                                                                                                                                                                                                                                                                                                                                                                                                                                                                                                                                                                                                                                                                                                                                                                                                                                                                                                                                                                                                                                                                                                                                                                                                                                                                                                                                                                                                                                                                                                                                                                                                                                                                                                                                                                                                                                                                                                                                                                                                                                                                                                                                                                       \n",
       "0                    int64[pyarrow]  double[pyarrow]  double[pyarrow]  struct<visit: list<element: int64>, detector: list<element: int16>, band: list<element: string>, ssObjectId: list<element: int64>, parentDiaSourceId: list<element: int64>, midpointMjdTai: list<element: double>, bboxSize: list<element: int64>, time_processed: list<element: timestamp[ns]>, ra: list<element: double>, dec: list<element: double>, raErr: list<element: float>, decErr: list<element: float>, ra_dec_Cov: list<element: float>, x: list<element: double>, y: list<element: double>, xErr: list<element: float>, yErr: list<element: float>, apFlux: list<element: double>, apFluxErr: list<element: double>, snr: list<element: double>, psfFlux: list<element: double>, psfFluxErr: list<element: double>, psfChi2: list<element: float>, psfNdata: list<element: int32>, trailFlux: list<element: double>, trailRa: list<element: double>, trailDec: list<element: double>, trailLength: list<element: double>, trailAngle: list<element: double>, dipoleMeanFlux: list<element: double>, dipoleMeanFluxErr: list<element: double>, dipoleFluxDiff: list<element: double>, dipoleFluxDiffErr: list<element: double>, dipoleLength: list<element: double>, dipoleAngle: list<element: double>, dipoleChi2: list<element: double>, isDipole: list<element: bool>, dipoleFitAttempted: list<element: bool>, dipoleNdata: list<element: int64>, scienceFlux: list<element: double>, scienceFluxErr: list<element: double>, ixx: list<element: double>, iyy: list<element: double>, ixy: list<element: double>, ixxPSF: list<element: double>, iyyPSF: list<element: double>, ixyPSF: list<element: double>, extendedness: list<element: double>, reliability: list<element: float>, pixelFlags: list<element: bool>, pixelFlags_offimage: list<element: bool>, pixelFlags_edge: list<element: bool>, pixelFlags_interpolated: list<element: bool>, pixelFlags_saturated: list<element: bool>, pixelFlags_cr: list<element: bool>, pixelFlags_bad: list<element: bool>, pixelFlags_suspect: list<element: bool>, pixelFlags_interpolatedCenter: list<element: bool>, pixelFlags_saturatedCenter: list<element: bool>, pixelFlags_crCenter: list<element: bool>, pixelFlags_suspectCenter: list<element: bool>, centroid_flag: list<element: bool>, apFlux_flag: list<element: bool>, apFlux_flag_apertureTruncated: list<element: bool>, psfFlux_flag: list<element: bool>, psfFlux_flag_noGoodPixels: list<element: bool>, psfFlux_flag_edge: list<element: bool>, forced_PsfFlux_flag: list<element: bool>, forced_PsfFlux_flag_noGoodPixels: list<element: bool>, forced_PsfFlux_flag_edge: list<element: bool>, shape_flag: list<element: bool>, shape_flag_no_pixels: list<element: bool>, shape_flag_not_contained: list<element: bool>, shape_flag_parent_source: list<element: bool>, trail_flag_edge: list<element: bool>, pixelFlags_streak: list<element: bool>, pixelFlags_streakCenter: list<element: bool>, pixelFlags_injected: list<element: bool>, pixelFlags_injectedCenter: list<element: bool>, pixelFlags_injected_template: list<element: bool>, pixelFlags_injected_templateCenter: list<element: bool>, pixelFlags_nodata: list<element: bool>, pixelFlags_nodataCenter: list<element: bool>, coord_ra: list<element: double>, coord_dec: list<element: double>, diaSourceId: list<element: int64>, tract: list<element: int64>, psfMag: list<element: double>, psfMagErr: list<element: double>, scienceMag: list<element: double>, scienceMagErr: list<element: double>>[pyarrow]  struct<parentObjectId: list<element: int64>, coord_ra: list<element: double>, coord_dec: list<element: double>, visit: list<element: int64>, detector: list<element: int16>, band: list<element: string>, psfFlux: list<element: double>, psfFluxErr: list<element: double>, psfFlux_flag: list<element: bool>, psfDiffFlux: list<element: double>, psfDiffFluxErr: list<element: double>, psfDiffFlux_flag: list<element: bool>, localPhotoCalib: list<element: double>, localPhotoCalib_flag: list<element: bool>, localPhotoCalibErr: list<element: double>, localWcs_flag: list<element: bool>, localWcs_CDMatrix_2_1: list<element: double>, localWcs_CDMatrix_1_1: list<element: double>, localWcs_CDMatrix_1_2: list<element: double>, localWcs_CDMatrix_2_2: list<element: double>, localBackground_instFlux: list<element: double>, localBackground_instFluxErr: list<element: double>, pixelFlags_edge: list<element: bool>, pixelFlags_interpolated: list<element: bool>, pixelFlags_saturated: list<element: bool>, pixelFlags_cr: list<element: bool>, pixelFlags_bad: list<element: bool>, pixelFlags_suspect: list<element: bool>, pixelFlags_interpolatedCenter: list<element: bool>, pixelFlags_saturatedCenter: list<element: bool>, pixelFlags_crCenter: list<element: bool>, pixelFlags_suspectCenter: list<element: bool>, invalidPsfFlag: list<element: bool>, tract: list<element: int64>, patch: list<element: int64>, forcedSourceOnDiaObjectId: list<element: int64>, psfMag: list<element: double>, psfMagErr: list<element: double>, midpointMjdTai: list<element: double>>[pyarrow]\n",
       "1152921504606846976             ...              ...              ...                                                                                                                                                                                                                                                                                                                                                                                                                                                                                                                                                                                                                                                                                                                                                                                                                                                                                                                                                                                                                                                                                                                                                                                                                                                                                                                                                                                                                                                                                                                                                                                                                                                                                                                                                                                                                                                                                                                                                                                                                                                                                                                                                                                                                                                                                                                                                                                                                                                                                                                                                                                                                                                                                                                                                                                                                                                                                                                                                                                                                                                                                                                                                                                                                                                                                                                                                                                                                                                                                                                            ...                                                                                                                                                                                                                                                                                                                                                                                                                                                                                                                                                                                                                                                                                                                                                                                                                                                                                                                                                                                                                                                                                                                                                                                                                                                                                                                                                                                                                                                                                                                                                                                                               ...\n",
       "...                             ...              ...              ...                                                                                                                                                                                                                                                                                                                                                                                                                                                                                                                                                                                                                                                                                                                                                                                                                                                                                                                                                                                                                                                                                                                                                                                                                                                                                                                                                                                                                                                                                                                                                                                                                                                                                                                                                                                                                                                                                                                                                                                                                                                                                                                                                                                                                                                                                                                                                                                                                                                                                                                                                                                                                                                                                                                                                                                                                                                                                                                                                                                                                                                                                                                                                                                                                                                                                                                                                                                                                                                                                                                            ...                                                                                                                                                                                                                                                                                                                                                                                                                                                                                                                                                                                                                                                                                                                                                                                                                                                                                                                                                                                                                                                                                                                                                                                                                                                                                                                                                                                                                                                                                                                                                                                                               ...\n",
       "2531022990582218752             ...              ...              ...                                                                                                                                                                                                                                                                                                                                                                                                                                                                                                                                                                                                                                                                                                                                                                                                                                                                                                                                                                                                                                                                                                                                                                                                                                                                                                                                                                                                                                                                                                                                                                                                                                                                                                                                                                                                                                                                                                                                                                                                                                                                                                                                                                                                                                                                                                                                                                                                                                                                                                                                                                                                                                                                                                                                                                                                                                                                                                                                                                                                                                                                                                                                                                                                                                                                                                                                                                                                                                                                                                                            ...                                                                                                                                                                                                                                                                                                                                                                                                                                                                                                                                                                                                                                                                                                                                                                                                                                                                                                                                                                                                                                                                                                                                                                                                                                                                                                                                                                                                                                                                                                                                                                                                               ...\n",
       "2535526590209589248             ...              ...              ...                                                                                                                                                                                                                                                                                                                                                                                                                                                                                                                                                                                                                                                                                                                                                                                                                                                                                                                                                                                                                                                                                                                                                                                                                                                                                                                                                                                                                                                                                                                                                                                                                                                                                                                                                                                                                                                                                                                                                                                                                                                                                                                                                                                                                                                                                                                                                                                                                                                                                                                                                                                                                                                                                                                                                                                                                                                                                                                                                                                                                                                                                                                                                                                                                                                                                                                                                                                                                                                                                                                            ...                                                                                                                                                                                                                                                                                                                                                                                                                                                                                                                                                                                                                                                                                                                                                                                                                                                                                                                                                                                                                                                                                                                                                                                                                                                                                                                                                                                                                                                                                                                                                                                                               ...\n",
       "Dask Name: nestedframe, 3 expressions\n",
       "Expr=MapPartitions(NestedFrame)"
      ]
     },
     "execution_count": 28,
     "metadata": {},
     "output_type": "execute_result"
    }
   ],
   "source": [
    "rubin_data"
   ]
  },
  {
   "cell_type": "code",
   "execution_count": 29,
   "id": "f2a18b87",
   "metadata": {},
   "outputs": [
    {
     "data": {
      "text/plain": [
       "Index(['diaObjectId', 'ra', 'dec', 'diaSource', 'diaObjectForcedSource'], dtype='object')"
      ]
     },
     "execution_count": 29,
     "metadata": {},
     "output_type": "execute_result"
    }
   ],
   "source": [
    "rubin_data.columns"
   ]
  },
  {
   "cell_type": "code",
   "execution_count": 30,
   "id": "30022a97",
   "metadata": {},
   "outputs": [
    {
     "data": {
      "text/plain": [
       "diaObjectId: int64\n",
       "ra: double\n",
       "dec: double\n",
       "diaSource: struct<visit: list<element: int64>, detector: list<element: int16>, band: list<element: string>, ssObjectId: list<element: int64>, parentDiaSourceId: list<element: int64>, midpointMjdTai: list<element: double>, bboxSize: list<element: int64>, time_processed: list<element: timestamp[ns]>, ra: list<element: double>, dec: list<element: double>, raErr: list<element: float>, decErr: list<element: float>, ra_dec_Cov: list<element: float>, x: list<element: double>, y: list<element: double>, xErr: list<element: float>, yErr: list<element: float>, apFlux: list<element: double>, apFluxErr: list<element: double>, snr: list<element: double>, psfFlux: list<element: double>, psfFluxErr: list<element: double>, psfChi2: list<element: float>, psfNdata: list<element: int32>, trailFlux: list<element: double>, trailRa: list<element: double>, trailDec: list<element: double>, trailLength: list<element: double>, trailAngle: list<element: double>, dipoleMeanFlux: list<element: double>, dipoleMeanFluxErr: list<element: double>, dipoleFluxDiff: list<element: double>, dipoleFluxDiffErr: list<element: double>, dipoleLength: list<element: double>, dipoleAngle: list<element: double>, dipoleChi2: list<element: double>, isDipole: list<element: bool>, dipoleFitAttempted: list<element: bool>, dipoleNdata: list<element: int64>, scienceFlux: list<element: double>, scienceFluxErr: list<element: double>, ixx: list<element: double>, iyy: list<element: double>, ixy: list<element: double>, ixxPSF: list<element: double>, iyyPSF: list<element: double>, ixyPSF: list<element: double>, extendedness: list<element: double>, reliability: list<element: float>, pixelFlags: list<element: bool>, pixelFlags_offimage: list<element: bool>, pixelFlags_edge: list<element: bool>, pixelFlags_interpolated: list<element: bool>, pixelFlags_saturated: list<element: bool>, pixelFlags_cr: list<element: bool>, pixelFlags_bad: list<element: bool>, pixelFlags_suspect: list<element: bool>, pixelFlags_interpolatedCenter: list<element: bool>, pixelFlags_saturatedCenter: list<element: bool>, pixelFlags_crCenter: list<element: bool>, pixelFlags_suspectCenter: list<element: bool>, centroid_flag: list<element: bool>, apFlux_flag: list<element: bool>, apFlux_flag_apertureTruncated: list<element: bool>, psfFlux_flag: list<element: bool>, psfFlux_flag_noGoodPixels: list<element: bool>, psfFlux_flag_edge: list<element: bool>, forced_PsfFlux_flag: list<element: bool>, forced_PsfFlux_flag_noGoodPixels: list<element: bool>, forced_PsfFlux_flag_edge: list<element: bool>, shape_flag: list<element: bool>, shape_flag_no_pixels: list<element: bool>, shape_flag_not_contained: list<element: bool>, shape_flag_parent_source: list<element: bool>, trail_flag_edge: list<element: bool>, pixelFlags_streak: list<element: bool>, pixelFlags_streakCenter: list<element: bool>, pixelFlags_injected: list<element: bool>, pixelFlags_injectedCenter: list<element: bool>, pixelFlags_injected_template: list<element: bool>, pixelFlags_injected_templateCenter: list<element: bool>, pixelFlags_nodata: list<element: bool>, pixelFlags_nodataCenter: list<element: bool>, coord_ra: list<element: double>, coord_dec: list<element: double>, diaSourceId: list<element: int64>, tract: list<element: int64>, psfMag: list<element: double>, psfMagErr: list<element: double>, scienceMag: list<element: double>, scienceMagErr: list<element: double>>\n",
       "  child 0, visit: list<element: int64>\n",
       "      child 0, element: int64\n",
       "  child 1, detector: list<element: int16>\n",
       "      child 0, element: int16\n",
       "  child 2, band: list<element: string>\n",
       "      child 0, element: string\n",
       "  child 3, ssObjectId: list<element: int64>\n",
       "      child 0, element: int64\n",
       "  child 4, parentDiaSourceId: list<element: int64>\n",
       "      child 0, element: int64\n",
       "  child 5, midpointMjdTai: list<element: double>\n",
       "      child 0, element: double\n",
       "  child 6, bboxSize: list<element: int64>\n",
       "      child 0, element: int64\n",
       "  child 7, time_processed: list<element: timestamp[ns]>\n",
       "      child 0, element: timestamp[ns]\n",
       "  child 8, ra: list<element: double>\n",
       "      child 0, element: double\n",
       "  child 9, dec: list<element: double>\n",
       "      child 0, element: double\n",
       "  child 10, raErr: list<element: float>\n",
       "      child 0, element: float\n",
       "  child 11, decErr: list<element: float>\n",
       "      child 0, element: float\n",
       "  child 12, ra_dec_Cov: list<element: float>\n",
       "      child 0, element: float\n",
       "  child 13, x: list<element: double>\n",
       "      child 0, element: double\n",
       "  child 14, y: list<element: double>\n",
       "      child 0, element: double\n",
       "  child 15, xErr: list<element: float>\n",
       "      child 0, element: float\n",
       "  child 16, yErr: list<element: float>\n",
       "      child 0, element: float\n",
       "  child 17, apFlux: list<element: double>\n",
       "      child 0, element: double\n",
       "  child 18, apFluxErr: list<element: double>\n",
       "      child 0, element: double\n",
       "  child 19, snr: list<element: double>\n",
       "      child 0, element: double\n",
       "  child 20, psfFlux: list<element: double>\n",
       "      child 0, element: double\n",
       "  child 21, psfFluxErr: list<element: double>\n",
       "      child 0, element: double\n",
       "  child 22, psfChi2: list<element: float>\n",
       "      child 0, element: float\n",
       "  child 23, psfNdata: list<element: int32>\n",
       "      child 0, element: int32\n",
       "  child 24, trailFlux: list<element: double>\n",
       "      child 0, element: double\n",
       "  child 25, trailRa: list<element: double>\n",
       "      child 0, element: double\n",
       "  child 26, trailDec: list<element: double>\n",
       "      child 0, element: double\n",
       "  child 27, trailLength: list<element: double>\n",
       "      child 0, element: double\n",
       "  child 28, trailAngle: list<element: double>\n",
       "      child 0, element: double\n",
       "  child 29, dipoleMeanFlux: list<element: double>\n",
       "      child 0, element: double\n",
       "  child 30, dipoleMeanFluxErr: list<element: double>\n",
       "      child 0, element: double\n",
       "  child 31, dipoleFluxDiff: list<element: double>\n",
       "      child 0, element: double\n",
       "  child 32, dipoleFluxDiffErr: list<element: double>\n",
       "      child 0, element: double\n",
       "  child 33, dipoleLength: list<element: double>\n",
       "      child 0, element: double\n",
       "  child 34, dipoleAngle: list<element: double>\n",
       "      child 0, element: double\n",
       "  child 35, dipoleChi2: list<element: double>\n",
       "      child 0, element: double\n",
       "  child 36, isDipole: list<element: bool>\n",
       "      child 0, element: bool\n",
       "  child 37, dipoleFitAttempted: list<element: bool>\n",
       "      child 0, element: bool\n",
       "  child 38, dipoleNdata: list<element: int64>\n",
       "      child 0, element: int64\n",
       "  child 39, scienceFlux: list<element: double>\n",
       "      child 0, element: double\n",
       "  child 40, scienceFluxErr: list<element: double>\n",
       "      child 0, element: double\n",
       "  child 41, ixx: list<element: double>\n",
       "      child 0, element: double\n",
       "  child 42, iyy: list<element: double>\n",
       "      child 0, element: double\n",
       "  child 43, ixy: list<element: double>\n",
       "      child 0, element: double\n",
       "  child 44, ixxPSF: list<element: double>\n",
       "      child 0, element: double\n",
       "  child 45, iyyPSF: list<element: double>\n",
       "      child 0, element: double\n",
       "  child 46, ixyPSF: list<element: double>\n",
       "      child 0, element: double\n",
       "  child 47, extendedness: list<element: double>\n",
       "      child 0, element: double\n",
       "  child 48, reliability: list<element: float>\n",
       "      child 0, element: float\n",
       "  child 49, pixelFlags: list<element: bool>\n",
       "      child 0, element: bool\n",
       "  child 50, pixelFlags_offimage: list<element: bool>\n",
       "      child 0, element: bool\n",
       "  child 51, pixelFlags_edge: list<element: bool>\n",
       "      child 0, element: bool\n",
       "  child 52, pixelFlags_interpolated: list<element: bool>\n",
       "      child 0, element: bool\n",
       "  child 53, pixelFlags_saturated: list<element: bool>\n",
       "      child 0, element: bool\n",
       "  child 54, pixelFlags_cr: list<element: bool>\n",
       "      child 0, element: bool\n",
       "  child 55, pixelFlags_bad: list<element: bool>\n",
       "      child 0, element: bool\n",
       "  child 56, pixelFlags_suspect: list<element: bool>\n",
       "      child 0, element: bool\n",
       "  child 57, pixelFlags_interpolatedCenter: list<element: bool>\n",
       "      child 0, element: bool\n",
       "  child 58, pixelFlags_saturatedCenter: list<element: bool>\n",
       "      child 0, element: bool\n",
       "  child 59, pixelFlags_crCenter: list<element: bool>\n",
       "      child 0, element: bool\n",
       "  child 60, pixelFlags_suspectCenter: list<element: bool>\n",
       "      child 0, element: bool\n",
       "  child 61, centroid_flag: list<element: bool>\n",
       "      child 0, element: bool\n",
       "  child 62, apFlux_flag: list<element: bool>\n",
       "      child 0, element: bool\n",
       "  child 63, apFlux_flag_apertureTruncated: list<element: bool>\n",
       "      child 0, element: bool\n",
       "  child 64, psfFlux_flag: list<element: bool>\n",
       "      child 0, element: bool\n",
       "  child 65, psfFlux_flag_noGoodPixels: list<element: bool>\n",
       "      child 0, element: bool\n",
       "  child 66, psfFlux_flag_edge: list<element: bool>\n",
       "      child 0, element: bool\n",
       "  child 67, forced_PsfFlux_flag: list<element: bool>\n",
       "      child 0, element: bool\n",
       "  child 68, forced_PsfFlux_flag_noGoodPixels: list<element: bool>\n",
       "      child 0, element: bool\n",
       "  child 69, forced_PsfFlux_flag_edge: list<element: bool>\n",
       "      child 0, element: bool\n",
       "  child 70, shape_flag: list<element: bool>\n",
       "      child 0, element: bool\n",
       "  child 71, shape_flag_no_pixels: list<element: bool>\n",
       "      child 0, element: bool\n",
       "  child 72, shape_flag_not_contained: list<element: bool>\n",
       "      child 0, element: bool\n",
       "  child 73, shape_flag_parent_source: list<element: bool>\n",
       "      child 0, element: bool\n",
       "  child 74, trail_flag_edge: list<element: bool>\n",
       "      child 0, element: bool\n",
       "  child 75, pixelFlags_streak: list<element: bool>\n",
       "      child 0, element: bool\n",
       "  child 76, pixelFlags_streakCenter: list<element: bool>\n",
       "      child 0, element: bool\n",
       "  child 77, pixelFlags_injected: list<element: bool>\n",
       "      child 0, element: bool\n",
       "  child 78, pixelFlags_injectedCenter: list<element: bool>\n",
       "      child 0, element: bool\n",
       "  child 79, pixelFlags_injected_template: list<element: bool>\n",
       "      child 0, element: bool\n",
       "  child 80, pixelFlags_injected_templateCenter: list<element: bool>\n",
       "      child 0, element: bool\n",
       "  child 81, pixelFlags_nodata: list<element: bool>\n",
       "      child 0, element: bool\n",
       "  child 82, pixelFlags_nodataCenter: list<element: bool>\n",
       "      child 0, element: bool\n",
       "  child 83, coord_ra: list<element: double>\n",
       "      child 0, element: double\n",
       "  child 84, coord_dec: list<element: double>\n",
       "      child 0, element: double\n",
       "  child 85, diaSourceId: list<element: int64>\n",
       "      child 0, element: int64\n",
       "  child 86, tract: list<element: int64>\n",
       "      child 0, element: int64\n",
       "  child 87, psfMag: list<element: double>\n",
       "      child 0, element: double\n",
       "  child 88, psfMagErr: list<element: double>\n",
       "      child 0, element: double\n",
       "  child 89, scienceMag: list<element: double>\n",
       "      child 0, element: double\n",
       "  child 90, scienceMagErr: list<element: double>\n",
       "      child 0, element: double\n",
       "diaObjectForcedSource: struct<parentObjectId: list<element: int64>, coord_ra: list<element: double>, coord_dec: list<element: double>, visit: list<element: int64>, detector: list<element: int16>, band: list<element: string>, psfFlux: list<element: double>, psfFluxErr: list<element: double>, psfFlux_flag: list<element: bool>, psfDiffFlux: list<element: double>, psfDiffFluxErr: list<element: double>, psfDiffFlux_flag: list<element: bool>, localPhotoCalib: list<element: double>, localPhotoCalib_flag: list<element: bool>, localPhotoCalibErr: list<element: double>, localWcs_flag: list<element: bool>, localWcs_CDMatrix_2_1: list<element: double>, localWcs_CDMatrix_1_1: list<element: double>, localWcs_CDMatrix_1_2: list<element: double>, localWcs_CDMatrix_2_2: list<element: double>, localBackground_instFlux: list<element: double>, localBackground_instFluxErr: list<element: double>, pixelFlags_edge: list<element: bool>, pixelFlags_interpolated: list<element: bool>, pixelFlags_saturated: list<element: bool>, pixelFlags_cr: list<element: bool>, pixelFlags_bad: list<element: bool>, pixelFlags_suspect: list<element: bool>, pixelFlags_interpolatedCenter: list<element: bool>, pixelFlags_saturatedCenter: list<element: bool>, pixelFlags_crCenter: list<element: bool>, pixelFlags_suspectCenter: list<element: bool>, invalidPsfFlag: list<element: bool>, tract: list<element: int64>, patch: list<element: int64>, forcedSourceOnDiaObjectId: list<element: int64>, psfMag: list<element: double>, psfMagErr: list<element: double>, midpointMjdTai: list<element: double>>\n",
       "  child 0, parentObjectId: list<element: int64>\n",
       "      child 0, element: int64\n",
       "  child 1, coord_ra: list<element: double>\n",
       "      child 0, element: double\n",
       "  child 2, coord_dec: list<element: double>\n",
       "      child 0, element: double\n",
       "  child 3, visit: list<element: int64>\n",
       "      child 0, element: int64\n",
       "  child 4, detector: list<element: int16>\n",
       "      child 0, element: int16\n",
       "  child 5, band: list<element: string>\n",
       "      child 0, element: string\n",
       "  child 6, psfFlux: list<element: double>\n",
       "      child 0, element: double\n",
       "  child 7, psfFluxErr: list<element: double>\n",
       "      child 0, element: double\n",
       "  child 8, psfFlux_flag: list<element: bool>\n",
       "      child 0, element: bool\n",
       "  child 9, psfDiffFlux: list<element: double>\n",
       "      child 0, element: double\n",
       "  child 10, psfDiffFluxErr: list<element: double>\n",
       "      child 0, element: double\n",
       "  child 11, psfDiffFlux_flag: list<element: bool>\n",
       "      child 0, element: bool\n",
       "  child 12, localPhotoCalib: list<element: double>\n",
       "      child 0, element: double\n",
       "  child 13, localPhotoCalib_flag: list<element: bool>\n",
       "      child 0, element: bool\n",
       "  child 14, localPhotoCalibErr: list<element: double>\n",
       "      child 0, element: double\n",
       "  child 15, localWcs_flag: list<element: bool>\n",
       "      child 0, element: bool\n",
       "  child 16, localWcs_CDMatrix_2_1: list<element: double>\n",
       "      child 0, element: double\n",
       "  child 17, localWcs_CDMatrix_1_1: list<element: double>\n",
       "      child 0, element: double\n",
       "  child 18, localWcs_CDMatrix_1_2: list<element: double>\n",
       "      child 0, element: double\n",
       "  child 19, localWcs_CDMatrix_2_2: list<element: double>\n",
       "      child 0, element: double\n",
       "  child 20, localBackground_instFlux: list<element: double>\n",
       "      child 0, element: double\n",
       "  child 21, localBackground_instFluxErr: list<element: double>\n",
       "      child 0, element: double\n",
       "  child 22, pixelFlags_edge: list<element: bool>\n",
       "      child 0, element: bool\n",
       "  child 23, pixelFlags_interpolated: list<element: bool>\n",
       "      child 0, element: bool\n",
       "  child 24, pixelFlags_saturated: list<element: bool>\n",
       "      child 0, element: bool\n",
       "  child 25, pixelFlags_cr: list<element: bool>\n",
       "      child 0, element: bool\n",
       "  child 26, pixelFlags_bad: list<element: bool>\n",
       "      child 0, element: bool\n",
       "  child 27, pixelFlags_suspect: list<element: bool>\n",
       "      child 0, element: bool\n",
       "  child 28, pixelFlags_interpolatedCenter: list<element: bool>\n",
       "      child 0, element: bool\n",
       "  child 29, pixelFlags_saturatedCenter: list<element: bool>\n",
       "      child 0, element: bool\n",
       "  child 30, pixelFlags_crCenter: list<element: bool>\n",
       "      child 0, element: bool\n",
       "  child 31, pixelFlags_suspectCenter: list<element: bool>\n",
       "      child 0, element: bool\n",
       "  child 32, invalidPsfFlag: list<element: bool>\n",
       "      child 0, element: bool\n",
       "  child 33, tract: list<element: int64>\n",
       "      child 0, element: int64\n",
       "  child 34, patch: list<element: int64>\n",
       "      child 0, element: int64\n",
       "  child 35, forcedSourceOnDiaObjectId: list<element: int64>\n",
       "      child 0, element: int64\n",
       "  child 36, psfMag: list<element: double>\n",
       "      child 0, element: double\n",
       "  child 37, psfMagErr: list<element: double>\n",
       "      child 0, element: double\n",
       "  child 38, midpointMjdTai: list<element: double>\n",
       "      child 0, element: double\n",
       "_healpix_29: int64"
      ]
     },
     "execution_count": 30,
     "metadata": {},
     "output_type": "execute_result"
    }
   ],
   "source": [
    "rubin_data.hc_structure.schema"
   ]
  },
  {
   "cell_type": "markdown",
   "id": "6c2e68c6",
   "metadata": {},
   "source": [
    "| Concept                 | TAP Reference                          | HATS Reference                          |\n",
    "|-------------------------|----------------------------------------|-----------------------------------------|\n",
    "| DIA Object ID           | `diao.diaObjectId as Object_ID`        | `diaObjectId` (top-level)               |\n",
    "| Right Ascension (RA)    | `diao.ra as RA`                        | `ra` (top-level)                        |\n",
    "| Declination (Dec)       | `diao.decl as DEC`                     | `dec` (top-level)                       |\n",
    "| gPSFluxNdata            | `diao.gPSFluxNdata`                    | `diaSource.psfNdata` ? |\n",
    "| \"Weighted mean of the PSF flux forced photometered at the diaSource position on the calibrated image\" | `diao.gTOTFluxMean` | `diaObjectForcedSource.psfFlux`? but only for g band sources|\n",
    "| \"Standard deviation of the PSF flux forced photometered at the diaSource position on the calibrated image\" | `diao.gTOTFluxSigma` | *(Not in schema?)* |\n",
    "| Forced DIA Object ID    | `fsodo.diaObjectId`                    | `diaObjectForcedSource.forcedSourceOnDiaObjectId` |\n",
    "| CCD Visit ID            | `fsodo.ccdVisitId`                     | *(Not in schema?)*    |\n",
    "| Band / Filter           | `fsodo.band as Filter`                 | `diaObjectForcedSource.band`        |\n",
    "| PSF Flux                | `fsodo.psfFlux`                        | `diaObjectForcedSource.psfFlux`     |\n",
    "| PSF Flux Error          | `fsodo.psfFluxErr`                     | `diaObjectForcedSource.psfFluxErr`  |\n",
    "| Epoch (Midpoint MJD)    | `cv.expMidptMJD as Epoch`              | `diaObjectForcedSource.midpointMjdTai` |\n",
    "| AB Magnitude            | `scisql_nanojanskyToAbMag(fsodo.psfFlux)` | From `psfFlux` |\n",
    "\n"
   ]
  },
  {
   "cell_type": "code",
   "execution_count": null,
   "id": "5b16941c-5dd3-49ff-a005-0b9b394c3b21",
   "metadata": {
    "execution": {
     "iopub.execute_input": "2023-04-14T08:24:39.189198Z",
     "iopub.status.busy": "2023-04-14T08:24:39.188396Z",
     "iopub.status.idle": "2023-04-14T08:24:56.122195Z",
     "shell.execute_reply": "2023-04-14T08:24:56.121344Z",
     "shell.execute_reply.started": "2023-04-14T08:24:39.189164Z"
    },
    "tags": []
   },
   "outputs": [],
   "source": [
    "query = \"SELECT \"\\\n",
    "        \"diao.diaObjectId as Object_ID, \"\\\n",
    "        \"diao.ra as RA, diao.decl as DEC, \"\\\n",
    "        \"diao.gPSFluxNdata, \"\\\n",
    "        \"diao.gTOTFluxMean, diao.gTOTFluxSigma, \"\\\n",
    "        \"fsodo.diaObjectId, \"\\\n",
    "        \"fsodo.ccdVisitId, \"\\\n",
    "        \"fsodo.band as Filter, \"\\\n",
    "        \"fsodo.psfFlux, fsodo.psfFluxErr, \"\\\n",
    "        \"cv.expMidptMJD as Epoch, \"\\\n",
    "        \"scisql_nanojanskyToAbMag(fsodo.psfFlux) as Mag \"\\\n",
    "        \\\n",
    "        \"FROM dp02_dc2_catalogs.DiaObject as diao \"\\\n",
    "        \"JOIN dp02_dc2_catalogs.ForcedSourceOnDiaObject as fsodo \"\\\n",
    "        \"ON fsodo.diaObjectId = diao.diaObjectId \"\\\n",
    "        \"JOIN dp02_dc2_catalogs.CcdVisit as cv ON cv.ccdVisitId = fsodo.ccdVisitId \"\\\n",
    "        \\\n",
    "        \"WHERE diao.gTOTFluxSigma/diao.gTOTFluxMean > 0.15 \"\\\n",
    "        \"AND diao.gPSFluxNdata > 60 \"\n",
    "\n",
    "\n",
    "#results = service.search(query)\n",
    "#sources = results.to_table().to_pandas()"
   ]
  },
  {
   "cell_type": "code",
   "execution_count": 22,
   "id": "5cc7b2c4",
   "metadata": {},
   "outputs": [
    {
     "name": "stderr",
     "output_type": "stream",
     "text": [
      "2025-03-26 18:29:40,626 - distributed.worker - ERROR - Compute Failed\n",
      "Key:       ('read_pixel-_to_string_dtype-nestedframe-lambda-e1c870ae1d32bcecc6bc4ce9541a20d8', 98)\n",
      "State:     executing\n",
      "Task:  <Task ('read_pixel-_to_string_dtype-nestedframe-lambda-e1c870ae1d32bcecc6bc4ce9541a20d8', 98) _execute_subgraph(...)>\n",
      "Exception: 'AttributeError(\"\\'Series\\' object has no attribute \\'psfNdata\\'\")'\n",
      "Traceback: '  File \"/sdf/group/rubin/sw/conda/envs/lsst-scipipe-10.0.0/lib/python3.12/site-packages/dask/dataframe/core.py\", line 97, in apply_and_enforce\\n    df = func(*args, **kwargs)\\n         ^^^^^^^^^^^^^^^^^^^^^\\n  File \"/sdf/home/o/olynn/.local/lib/python3.12/site-packages/nested_dask/core.py\", line 541, in <lambda>\\n    return self.map_partitions(lambda x: npd.NestedFrame(x).query(expr), meta=self._meta)\\n                                         ^^^^^^^^^^^^^^^^^^^^^^^^^^^^^^\\n  File \"/sdf/home/o/olynn/.local/lib/python3.12/site-packages/nested_pandas/nestedframe/core.py\", line 547, in query\\n    nest_names = self.extract_nest_names(expr, **kwargs)\\n                 ^^^^^^^^^^^^^^^^^^^^^^^^^^^^^^^^^^^^^^^\\n  File \"/sdf/home/o/olynn/.local/lib/python3.12/site-packages/nested_pandas/nestedframe/core.py\", line 485, in extract_nest_names\\n    parsed_expr = Expr(expr, parser=\"nested-pandas\", env=env)\\n                  ^^^^^^^^^^^^^^^^^^^^^^^^^^^^^^^^^^^^^^^^^^^\\n  File \"/sdf/group/rubin/sw/conda/envs/lsst-scipipe-10.0.0/lib/python3.12/site-packages/pandas/core/computation/expr.py\", line 805, in __init__\\n    self.terms = self.parse()\\n                 ^^^^^^^^^^^^\\n  File \"/sdf/group/rubin/sw/conda/envs/lsst-scipipe-10.0.0/lib/python3.12/site-packages/pandas/core/computation/expr.py\", line 824, in parse\\n    return self._visitor.visit(self.expr)\\n           ^^^^^^^^^^^^^^^^^^^^^^^^^^^^^^\\n  File \"/sdf/group/rubin/sw/conda/envs/lsst-scipipe-10.0.0/lib/python3.12/site-packages/pandas/core/computation/expr.py\", line 411, in visit\\n    return visitor(node, **kwargs)\\n           ^^^^^^^^^^^^^^^^^^^^^^^\\n  File \"/sdf/group/rubin/sw/conda/envs/lsst-scipipe-10.0.0/lib/python3.12/site-packages/pandas/core/computation/expr.py\", line 417, in visit_Module\\n    return self.visit(expr, **kwargs)\\n           ^^^^^^^^^^^^^^^^^^^^^^^^^^\\n  File \"/sdf/group/rubin/sw/conda/envs/lsst-scipipe-10.0.0/lib/python3.12/site-packages/pandas/core/computation/expr.py\", line 411, in visit\\n    return visitor(node, **kwargs)\\n           ^^^^^^^^^^^^^^^^^^^^^^^\\n  File \"/sdf/group/rubin/sw/conda/envs/lsst-scipipe-10.0.0/lib/python3.12/site-packages/pandas/core/computation/expr.py\", line 420, in visit_Expr\\n    return self.visit(node.value, **kwargs)\\n           ^^^^^^^^^^^^^^^^^^^^^^^^^^^^^^^^\\n  File \"/sdf/group/rubin/sw/conda/envs/lsst-scipipe-10.0.0/lib/python3.12/site-packages/pandas/core/computation/expr.py\", line 411, in visit\\n    return visitor(node, **kwargs)\\n           ^^^^^^^^^^^^^^^^^^^^^^^\\n  File \"/sdf/group/rubin/sw/conda/envs/lsst-scipipe-10.0.0/lib/python3.12/site-packages/pandas/core/computation/expr.py\", line 715, in visit_Compare\\n    return self.visit(binop)\\n           ^^^^^^^^^^^^^^^^^\\n  File \"/sdf/group/rubin/sw/conda/envs/lsst-scipipe-10.0.0/lib/python3.12/site-packages/pandas/core/computation/expr.py\", line 411, in visit\\n    return visitor(node, **kwargs)\\n           ^^^^^^^^^^^^^^^^^^^^^^^\\n  File \"/sdf/group/rubin/sw/conda/envs/lsst-scipipe-10.0.0/lib/python3.12/site-packages/pandas/core/computation/expr.py\", line 531, in visit_BinOp\\n    op, op_class, left, right = self._maybe_transform_eq_ne(node)\\n                                ^^^^^^^^^^^^^^^^^^^^^^^^^^^^^^^^^\\n  File \"/sdf/group/rubin/sw/conda/envs/lsst-scipipe-10.0.0/lib/python3.12/site-packages/pandas/core/computation/expr.py\", line 451, in _maybe_transform_eq_ne\\n    left = self.visit(node.left, side=\"left\")\\n           ^^^^^^^^^^^^^^^^^^^^^^^^^^^^^^^^^^\\n  File \"/sdf/group/rubin/sw/conda/envs/lsst-scipipe-10.0.0/lib/python3.12/site-packages/pandas/core/computation/expr.py\", line 411, in visit\\n    return visitor(node, **kwargs)\\n           ^^^^^^^^^^^^^^^^^^^^^^^\\n  File \"/sdf/group/rubin/sw/conda/envs/lsst-scipipe-10.0.0/lib/python3.12/site-packages/pandas/core/computation/expr.py\", line 642, in visit_Attribute\\n    v = getattr(resolved, attr)\\n        ^^^^^^^^^^^^^^^^^^^^^^^\\n  File \"/sdf/group/rubin/sw/conda/envs/lsst-scipipe-10.0.0/lib/python3.12/site-packages/pandas/core/generic.py\", line 6299, in __getattr__\\n    return object.__getattribute__(self, name)\\n           ^^^^^^^^^^^^^^^^^^^^^^^^^^^^^^^^^^^\\n'\n",
      "\n",
      "2025-03-26 18:29:40,632 - distributed.worker - ERROR - Compute Failed\n",
      "Key:       ('read_pixel-_to_string_dtype-nestedframe-lambda-e1c870ae1d32bcecc6bc4ce9541a20d8', 90)\n",
      "State:     executing\n",
      "Task:  <Task ('read_pixel-_to_string_dtype-nestedframe-lambda-e1c870ae1d32bcecc6bc4ce9541a20d8', 90) _execute_subgraph(...)>\n",
      "Exception: 'AttributeError(\"\\'Series\\' object has no attribute \\'psfNdata\\'\")'\n",
      "Traceback: '  File \"/sdf/group/rubin/sw/conda/envs/lsst-scipipe-10.0.0/lib/python3.12/site-packages/dask/dataframe/core.py\", line 97, in apply_and_enforce\\n    df = func(*args, **kwargs)\\n         ^^^^^^^^^^^^^^^^^^^^^\\n  File \"/sdf/home/o/olynn/.local/lib/python3.12/site-packages/nested_dask/core.py\", line 541, in <lambda>\\n    return self.map_partitions(lambda x: npd.NestedFrame(x).query(expr), meta=self._meta)\\n                                         ^^^^^^^^^^^^^^^^^^^^^^^^^^^^^^\\n  File \"/sdf/home/o/olynn/.local/lib/python3.12/site-packages/nested_pandas/nestedframe/core.py\", line 547, in query\\n    nest_names = self.extract_nest_names(expr, **kwargs)\\n                 ^^^^^^^^^^^^^^^^^^^^^^^^^^^^^^^^^^^^^^^\\n  File \"/sdf/home/o/olynn/.local/lib/python3.12/site-packages/nested_pandas/nestedframe/core.py\", line 485, in extract_nest_names\\n    parsed_expr = Expr(expr, parser=\"nested-pandas\", env=env)\\n                  ^^^^^^^^^^^^^^^^^^^^^^^^^^^^^^^^^^^^^^^^^^^\\n  File \"/sdf/group/rubin/sw/conda/envs/lsst-scipipe-10.0.0/lib/python3.12/site-packages/pandas/core/computation/expr.py\", line 805, in __init__\\n    self.terms = self.parse()\\n                 ^^^^^^^^^^^^\\n  File \"/sdf/group/rubin/sw/conda/envs/lsst-scipipe-10.0.0/lib/python3.12/site-packages/pandas/core/computation/expr.py\", line 824, in parse\\n    return self._visitor.visit(self.expr)\\n           ^^^^^^^^^^^^^^^^^^^^^^^^^^^^^^\\n  File \"/sdf/group/rubin/sw/conda/envs/lsst-scipipe-10.0.0/lib/python3.12/site-packages/pandas/core/computation/expr.py\", line 411, in visit\\n    return visitor(node, **kwargs)\\n           ^^^^^^^^^^^^^^^^^^^^^^^\\n  File \"/sdf/group/rubin/sw/conda/envs/lsst-scipipe-10.0.0/lib/python3.12/site-packages/pandas/core/computation/expr.py\", line 417, in visit_Module\\n    return self.visit(expr, **kwargs)\\n           ^^^^^^^^^^^^^^^^^^^^^^^^^^\\n  File \"/sdf/group/rubin/sw/conda/envs/lsst-scipipe-10.0.0/lib/python3.12/site-packages/pandas/core/computation/expr.py\", line 411, in visit\\n    return visitor(node, **kwargs)\\n           ^^^^^^^^^^^^^^^^^^^^^^^\\n  File \"/sdf/group/rubin/sw/conda/envs/lsst-scipipe-10.0.0/lib/python3.12/site-packages/pandas/core/computation/expr.py\", line 420, in visit_Expr\\n    return self.visit(node.value, **kwargs)\\n           ^^^^^^^^^^^^^^^^^^^^^^^^^^^^^^^^\\n  File \"/sdf/group/rubin/sw/conda/envs/lsst-scipipe-10.0.0/lib/python3.12/site-packages/pandas/core/computation/expr.py\", line 411, in visit\\n    return visitor(node, **kwargs)\\n           ^^^^^^^^^^^^^^^^^^^^^^^\\n  File \"/sdf/group/rubin/sw/conda/envs/lsst-scipipe-10.0.0/lib/python3.12/site-packages/pandas/core/computation/expr.py\", line 715, in visit_Compare\\n    return self.visit(binop)\\n           ^^^^^^^^^^^^^^^^^\\n  File \"/sdf/group/rubin/sw/conda/envs/lsst-scipipe-10.0.0/lib/python3.12/site-packages/pandas/core/computation/expr.py\", line 411, in visit\\n    return visitor(node, **kwargs)\\n           ^^^^^^^^^^^^^^^^^^^^^^^\\n  File \"/sdf/group/rubin/sw/conda/envs/lsst-scipipe-10.0.0/lib/python3.12/site-packages/pandas/core/computation/expr.py\", line 531, in visit_BinOp\\n    op, op_class, left, right = self._maybe_transform_eq_ne(node)\\n                                ^^^^^^^^^^^^^^^^^^^^^^^^^^^^^^^^^\\n  File \"/sdf/group/rubin/sw/conda/envs/lsst-scipipe-10.0.0/lib/python3.12/site-packages/pandas/core/computation/expr.py\", line 451, in _maybe_transform_eq_ne\\n    left = self.visit(node.left, side=\"left\")\\n           ^^^^^^^^^^^^^^^^^^^^^^^^^^^^^^^^^^\\n  File \"/sdf/group/rubin/sw/conda/envs/lsst-scipipe-10.0.0/lib/python3.12/site-packages/pandas/core/computation/expr.py\", line 411, in visit\\n    return visitor(node, **kwargs)\\n           ^^^^^^^^^^^^^^^^^^^^^^^\\n  File \"/sdf/group/rubin/sw/conda/envs/lsst-scipipe-10.0.0/lib/python3.12/site-packages/pandas/core/computation/expr.py\", line 642, in visit_Attribute\\n    v = getattr(resolved, attr)\\n        ^^^^^^^^^^^^^^^^^^^^^^^\\n  File \"/sdf/group/rubin/sw/conda/envs/lsst-scipipe-10.0.0/lib/python3.12/site-packages/pandas/core/generic.py\", line 6299, in __getattr__\\n    return object.__getattribute__(self, name)\\n           ^^^^^^^^^^^^^^^^^^^^^^^^^^^^^^^^^^^\\n'\n",
      "\n",
      "2025-03-26 18:29:40,644 - distributed.worker - ERROR - Compute Failed\n",
      "Key:       ('read_pixel-_to_string_dtype-nestedframe-lambda-e1c870ae1d32bcecc6bc4ce9541a20d8', 94)\n",
      "State:     executing\n",
      "Task:  <Task ('read_pixel-_to_string_dtype-nestedframe-lambda-e1c870ae1d32bcecc6bc4ce9541a20d8', 94) _execute_subgraph(...)>\n",
      "Exception: 'AttributeError(\"\\'Series\\' object has no attribute \\'psfNdata\\'\")'\n",
      "Traceback: '  File \"/sdf/group/rubin/sw/conda/envs/lsst-scipipe-10.0.0/lib/python3.12/site-packages/dask/dataframe/core.py\", line 97, in apply_and_enforce\\n    df = func(*args, **kwargs)\\n         ^^^^^^^^^^^^^^^^^^^^^\\n  File \"/sdf/home/o/olynn/.local/lib/python3.12/site-packages/nested_dask/core.py\", line 541, in <lambda>\\n    return self.map_partitions(lambda x: npd.NestedFrame(x).query(expr), meta=self._meta)\\n                                         ^^^^^^^^^^^^^^^^^^^^^^^^^^^^^^\\n  File \"/sdf/home/o/olynn/.local/lib/python3.12/site-packages/nested_pandas/nestedframe/core.py\", line 547, in query\\n    nest_names = self.extract_nest_names(expr, **kwargs)\\n                 ^^^^^^^^^^^^^^^^^^^^^^^^^^^^^^^^^^^^^^^\\n  File \"/sdf/home/o/olynn/.local/lib/python3.12/site-packages/nested_pandas/nestedframe/core.py\", line 485, in extract_nest_names\\n    parsed_expr = Expr(expr, parser=\"nested-pandas\", env=env)\\n                  ^^^^^^^^^^^^^^^^^^^^^^^^^^^^^^^^^^^^^^^^^^^\\n  File \"/sdf/group/rubin/sw/conda/envs/lsst-scipipe-10.0.0/lib/python3.12/site-packages/pandas/core/computation/expr.py\", line 805, in __init__\\n    self.terms = self.parse()\\n                 ^^^^^^^^^^^^\\n  File \"/sdf/group/rubin/sw/conda/envs/lsst-scipipe-10.0.0/lib/python3.12/site-packages/pandas/core/computation/expr.py\", line 824, in parse\\n    return self._visitor.visit(self.expr)\\n           ^^^^^^^^^^^^^^^^^^^^^^^^^^^^^^\\n  File \"/sdf/group/rubin/sw/conda/envs/lsst-scipipe-10.0.0/lib/python3.12/site-packages/pandas/core/computation/expr.py\", line 411, in visit\\n    return visitor(node, **kwargs)\\n           ^^^^^^^^^^^^^^^^^^^^^^^\\n  File \"/sdf/group/rubin/sw/conda/envs/lsst-scipipe-10.0.0/lib/python3.12/site-packages/pandas/core/computation/expr.py\", line 417, in visit_Module\\n    return self.visit(expr, **kwargs)\\n           ^^^^^^^^^^^^^^^^^^^^^^^^^^\\n  File \"/sdf/group/rubin/sw/conda/envs/lsst-scipipe-10.0.0/lib/python3.12/site-packages/pandas/core/computation/expr.py\", line 411, in visit\\n    return visitor(node, **kwargs)\\n           ^^^^^^^^^^^^^^^^^^^^^^^\\n  File \"/sdf/group/rubin/sw/conda/envs/lsst-scipipe-10.0.0/lib/python3.12/site-packages/pandas/core/computation/expr.py\", line 420, in visit_Expr\\n    return self.visit(node.value, **kwargs)\\n           ^^^^^^^^^^^^^^^^^^^^^^^^^^^^^^^^\\n  File \"/sdf/group/rubin/sw/conda/envs/lsst-scipipe-10.0.0/lib/python3.12/site-packages/pandas/core/computation/expr.py\", line 411, in visit\\n    return visitor(node, **kwargs)\\n           ^^^^^^^^^^^^^^^^^^^^^^^\\n  File \"/sdf/group/rubin/sw/conda/envs/lsst-scipipe-10.0.0/lib/python3.12/site-packages/pandas/core/computation/expr.py\", line 715, in visit_Compare\\n    return self.visit(binop)\\n           ^^^^^^^^^^^^^^^^^\\n  File \"/sdf/group/rubin/sw/conda/envs/lsst-scipipe-10.0.0/lib/python3.12/site-packages/pandas/core/computation/expr.py\", line 411, in visit\\n    return visitor(node, **kwargs)\\n           ^^^^^^^^^^^^^^^^^^^^^^^\\n  File \"/sdf/group/rubin/sw/conda/envs/lsst-scipipe-10.0.0/lib/python3.12/site-packages/pandas/core/computation/expr.py\", line 531, in visit_BinOp\\n    op, op_class, left, right = self._maybe_transform_eq_ne(node)\\n                                ^^^^^^^^^^^^^^^^^^^^^^^^^^^^^^^^^\\n  File \"/sdf/group/rubin/sw/conda/envs/lsst-scipipe-10.0.0/lib/python3.12/site-packages/pandas/core/computation/expr.py\", line 451, in _maybe_transform_eq_ne\\n    left = self.visit(node.left, side=\"left\")\\n           ^^^^^^^^^^^^^^^^^^^^^^^^^^^^^^^^^^\\n  File \"/sdf/group/rubin/sw/conda/envs/lsst-scipipe-10.0.0/lib/python3.12/site-packages/pandas/core/computation/expr.py\", line 411, in visit\\n    return visitor(node, **kwargs)\\n           ^^^^^^^^^^^^^^^^^^^^^^^\\n  File \"/sdf/group/rubin/sw/conda/envs/lsst-scipipe-10.0.0/lib/python3.12/site-packages/pandas/core/computation/expr.py\", line 642, in visit_Attribute\\n    v = getattr(resolved, attr)\\n        ^^^^^^^^^^^^^^^^^^^^^^^\\n  File \"/sdf/group/rubin/sw/conda/envs/lsst-scipipe-10.0.0/lib/python3.12/site-packages/pandas/core/generic.py\", line 6299, in __getattr__\\n    return object.__getattribute__(self, name)\\n           ^^^^^^^^^^^^^^^^^^^^^^^^^^^^^^^^^^^\\n'\n",
      "\n"
     ]
    },
    {
     "ename": "AttributeError",
     "evalue": "'Series' object has no attribute 'psfNdata'",
     "output_type": "error",
     "traceback": [
      "\u001b[0;31m---------------------------------------------------------------------------\u001b[0m",
      "\u001b[0;31mAttributeError\u001b[0m                            Traceback (most recent call last)",
      "\u001b[0;32m/lscratch/olynn/ipykernel_2165741/3721746273.py\u001b[0m in \u001b[0;36m?\u001b[0;34m()\u001b[0m\n\u001b[0;32m----> 1\u001b[0;31m \u001b[0mrubin_data\u001b[0m\u001b[0;34m.\u001b[0m\u001b[0mquery\u001b[0m\u001b[0;34m(\u001b[0m\u001b[0;34m\"diaSource.psfNdata > 60\"\u001b[0m\u001b[0;34m)\u001b[0m\u001b[0;34m.\u001b[0m\u001b[0mcompute\u001b[0m\u001b[0;34m(\u001b[0m\u001b[0;34m)\u001b[0m\u001b[0;34m\u001b[0m\u001b[0;34m\u001b[0m\u001b[0m\n\u001b[0m",
      "\u001b[0;32m~/.local/lib/python3.12/site-packages/lsdb/catalog/dataset/dataset.py\u001b[0m in \u001b[0;36m?\u001b[0;34m(self)\u001b[0m\n\u001b[1;32m     43\u001b[0m     \u001b[0;32mdef\u001b[0m \u001b[0mcompute\u001b[0m\u001b[0;34m(\u001b[0m\u001b[0mself\u001b[0m\u001b[0;34m)\u001b[0m \u001b[0;34m->\u001b[0m \u001b[0mnpd\u001b[0m\u001b[0;34m.\u001b[0m\u001b[0mNestedFrame\u001b[0m\u001b[0;34m:\u001b[0m\u001b[0;34m\u001b[0m\u001b[0;34m\u001b[0m\u001b[0m\n\u001b[1;32m     44\u001b[0m         \u001b[0;34m\"\"\"Compute dask distributed dataframe to pandas dataframe\"\"\"\u001b[0m\u001b[0;34m\u001b[0m\u001b[0;34m\u001b[0m\u001b[0m\n\u001b[0;32m---> 45\u001b[0;31m         \u001b[0;32mreturn\u001b[0m \u001b[0mself\u001b[0m\u001b[0;34m.\u001b[0m\u001b[0m_ddf\u001b[0m\u001b[0;34m.\u001b[0m\u001b[0mcompute\u001b[0m\u001b[0;34m(\u001b[0m\u001b[0;34m)\u001b[0m\u001b[0;34m\u001b[0m\u001b[0;34m\u001b[0m\u001b[0m\n\u001b[0m",
      "\u001b[0;32m~/.local/lib/python3.12/site-packages/nested_dask/core.py\u001b[0m in \u001b[0;36m?\u001b[0;34m(self, **kwargs)\u001b[0m\n\u001b[1;32m    431\u001b[0m     \u001b[0;32mdef\u001b[0m \u001b[0mcompute\u001b[0m\u001b[0;34m(\u001b[0m\u001b[0mself\u001b[0m\u001b[0;34m,\u001b[0m \u001b[0;34m**\u001b[0m\u001b[0mkwargs\u001b[0m\u001b[0;34m)\u001b[0m\u001b[0;34m:\u001b[0m\u001b[0;34m\u001b[0m\u001b[0;34m\u001b[0m\u001b[0m\n\u001b[1;32m    432\u001b[0m         \u001b[0;34m\"\"\"Compute this Dask collection, returning the underlying dataframe or series.\"\"\"\u001b[0m\u001b[0;34m\u001b[0m\u001b[0;34m\u001b[0m\u001b[0m\n\u001b[0;32m--> 433\u001b[0;31m         \u001b[0;32mreturn\u001b[0m \u001b[0mnpd\u001b[0m\u001b[0;34m.\u001b[0m\u001b[0mNestedFrame\u001b[0m\u001b[0;34m(\u001b[0m\u001b[0msuper\u001b[0m\u001b[0;34m(\u001b[0m\u001b[0;34m)\u001b[0m\u001b[0;34m.\u001b[0m\u001b[0mcompute\u001b[0m\u001b[0;34m(\u001b[0m\u001b[0;34m**\u001b[0m\u001b[0mkwargs\u001b[0m\u001b[0;34m)\u001b[0m\u001b[0;34m)\u001b[0m\u001b[0;34m\u001b[0m\u001b[0;34m\u001b[0m\u001b[0m\n\u001b[0m",
      "\u001b[0;32m/sdf/group/rubin/sw/conda/envs/lsst-scipipe-10.0.0/lib/python3.12/site-packages/dask/dataframe/dask_expr/_collection.py\u001b[0m in \u001b[0;36m?\u001b[0;34m(self, fuse, concatenate, **kwargs)\u001b[0m\n\u001b[1;32m    485\u001b[0m         \u001b[0mout\u001b[0m \u001b[0;34m=\u001b[0m \u001b[0mself\u001b[0m\u001b[0;34m\u001b[0m\u001b[0;34m\u001b[0m\u001b[0m\n\u001b[1;32m    486\u001b[0m         \u001b[0;32mif\u001b[0m \u001b[0;32mnot\u001b[0m \u001b[0misinstance\u001b[0m\u001b[0;34m(\u001b[0m\u001b[0mout\u001b[0m\u001b[0;34m,\u001b[0m \u001b[0mScalar\u001b[0m\u001b[0;34m)\u001b[0m \u001b[0;32mand\u001b[0m \u001b[0mconcatenate\u001b[0m\u001b[0;34m:\u001b[0m\u001b[0;34m\u001b[0m\u001b[0;34m\u001b[0m\u001b[0m\n\u001b[1;32m    487\u001b[0m             \u001b[0mout\u001b[0m \u001b[0;34m=\u001b[0m \u001b[0mout\u001b[0m\u001b[0;34m.\u001b[0m\u001b[0mrepartition\u001b[0m\u001b[0;34m(\u001b[0m\u001b[0mnpartitions\u001b[0m\u001b[0;34m=\u001b[0m\u001b[0;36m1\u001b[0m\u001b[0;34m)\u001b[0m\u001b[0;34m\u001b[0m\u001b[0;34m\u001b[0m\u001b[0m\n\u001b[1;32m    488\u001b[0m         \u001b[0mout\u001b[0m \u001b[0;34m=\u001b[0m \u001b[0mout\u001b[0m\u001b[0;34m.\u001b[0m\u001b[0moptimize\u001b[0m\u001b[0;34m(\u001b[0m\u001b[0mfuse\u001b[0m\u001b[0;34m=\u001b[0m\u001b[0mfuse\u001b[0m\u001b[0;34m)\u001b[0m\u001b[0;34m\u001b[0m\u001b[0;34m\u001b[0m\u001b[0m\n\u001b[0;32m--> 489\u001b[0;31m         \u001b[0;32mreturn\u001b[0m \u001b[0mDaskMethodsMixin\u001b[0m\u001b[0;34m.\u001b[0m\u001b[0mcompute\u001b[0m\u001b[0;34m(\u001b[0m\u001b[0mout\u001b[0m\u001b[0;34m,\u001b[0m \u001b[0;34m**\u001b[0m\u001b[0mkwargs\u001b[0m\u001b[0;34m)\u001b[0m\u001b[0;34m\u001b[0m\u001b[0;34m\u001b[0m\u001b[0m\n\u001b[0m",
      "\u001b[0;32m/sdf/group/rubin/sw/conda/envs/lsst-scipipe-10.0.0/lib/python3.12/site-packages/dask/base.py\u001b[0m in \u001b[0;36m?\u001b[0;34m(self, **kwargs)\u001b[0m\n\u001b[1;32m    370\u001b[0m         \u001b[0mSee\u001b[0m \u001b[0mAlso\u001b[0m\u001b[0;34m\u001b[0m\u001b[0;34m\u001b[0m\u001b[0m\n\u001b[1;32m    371\u001b[0m         \u001b[0;34m-\u001b[0m\u001b[0;34m-\u001b[0m\u001b[0;34m-\u001b[0m\u001b[0;34m-\u001b[0m\u001b[0;34m-\u001b[0m\u001b[0;34m-\u001b[0m\u001b[0;34m-\u001b[0m\u001b[0;34m-\u001b[0m\u001b[0;34m\u001b[0m\u001b[0;34m\u001b[0m\u001b[0m\n\u001b[1;32m    372\u001b[0m         \u001b[0mdask\u001b[0m\u001b[0;34m.\u001b[0m\u001b[0mcompute\u001b[0m\u001b[0;34m\u001b[0m\u001b[0;34m\u001b[0m\u001b[0m\n\u001b[1;32m    373\u001b[0m         \"\"\"\n\u001b[0;32m--> 374\u001b[0;31m         \u001b[0;34m(\u001b[0m\u001b[0mresult\u001b[0m\u001b[0;34m,\u001b[0m\u001b[0;34m)\u001b[0m \u001b[0;34m=\u001b[0m \u001b[0mcompute\u001b[0m\u001b[0;34m(\u001b[0m\u001b[0mself\u001b[0m\u001b[0;34m,\u001b[0m \u001b[0mtraverse\u001b[0m\u001b[0;34m=\u001b[0m\u001b[0;32mFalse\u001b[0m\u001b[0;34m,\u001b[0m \u001b[0;34m**\u001b[0m\u001b[0mkwargs\u001b[0m\u001b[0;34m)\u001b[0m\u001b[0;34m\u001b[0m\u001b[0;34m\u001b[0m\u001b[0m\n\u001b[0m\u001b[1;32m    375\u001b[0m         \u001b[0;32mreturn\u001b[0m \u001b[0mresult\u001b[0m\u001b[0;34m\u001b[0m\u001b[0;34m\u001b[0m\u001b[0m\n",
      "\u001b[0;32m/sdf/group/rubin/sw/conda/envs/lsst-scipipe-10.0.0/lib/python3.12/site-packages/dask/base.py\u001b[0m in \u001b[0;36m?\u001b[0;34m(traverse, optimize_graph, scheduler, get, *args, **kwargs)\u001b[0m\n\u001b[1;32m    658\u001b[0m         \u001b[0mkeys\u001b[0m\u001b[0;34m.\u001b[0m\u001b[0mappend\u001b[0m\u001b[0;34m(\u001b[0m\u001b[0mx\u001b[0m\u001b[0;34m.\u001b[0m\u001b[0m__dask_keys__\u001b[0m\u001b[0;34m(\u001b[0m\u001b[0;34m)\u001b[0m\u001b[0;34m)\u001b[0m\u001b[0;34m\u001b[0m\u001b[0;34m\u001b[0m\u001b[0m\n\u001b[1;32m    659\u001b[0m         \u001b[0mpostcomputes\u001b[0m\u001b[0;34m.\u001b[0m\u001b[0mappend\u001b[0m\u001b[0;34m(\u001b[0m\u001b[0mx\u001b[0m\u001b[0;34m.\u001b[0m\u001b[0m__dask_postcompute__\u001b[0m\u001b[0;34m(\u001b[0m\u001b[0;34m)\u001b[0m\u001b[0;34m)\u001b[0m\u001b[0;34m\u001b[0m\u001b[0;34m\u001b[0m\u001b[0m\n\u001b[1;32m    660\u001b[0m \u001b[0;34m\u001b[0m\u001b[0m\n\u001b[1;32m    661\u001b[0m     \u001b[0;32mwith\u001b[0m \u001b[0mshorten_traceback\u001b[0m\u001b[0;34m(\u001b[0m\u001b[0;34m)\u001b[0m\u001b[0;34m:\u001b[0m\u001b[0;34m\u001b[0m\u001b[0;34m\u001b[0m\u001b[0m\n\u001b[0;32m--> 662\u001b[0;31m         \u001b[0mresults\u001b[0m \u001b[0;34m=\u001b[0m \u001b[0mschedule\u001b[0m\u001b[0;34m(\u001b[0m\u001b[0mdsk\u001b[0m\u001b[0;34m,\u001b[0m \u001b[0mkeys\u001b[0m\u001b[0;34m,\u001b[0m \u001b[0;34m**\u001b[0m\u001b[0mkwargs\u001b[0m\u001b[0;34m)\u001b[0m\u001b[0;34m\u001b[0m\u001b[0;34m\u001b[0m\u001b[0m\n\u001b[0m\u001b[1;32m    663\u001b[0m \u001b[0;34m\u001b[0m\u001b[0m\n\u001b[1;32m    664\u001b[0m     \u001b[0;32mreturn\u001b[0m \u001b[0mrepack\u001b[0m\u001b[0;34m(\u001b[0m\u001b[0;34m[\u001b[0m\u001b[0mf\u001b[0m\u001b[0;34m(\u001b[0m\u001b[0mr\u001b[0m\u001b[0;34m,\u001b[0m \u001b[0;34m*\u001b[0m\u001b[0ma\u001b[0m\u001b[0;34m)\u001b[0m \u001b[0;32mfor\u001b[0m \u001b[0mr\u001b[0m\u001b[0;34m,\u001b[0m \u001b[0;34m(\u001b[0m\u001b[0mf\u001b[0m\u001b[0;34m,\u001b[0m \u001b[0ma\u001b[0m\u001b[0;34m)\u001b[0m \u001b[0;32min\u001b[0m \u001b[0mzip\u001b[0m\u001b[0;34m(\u001b[0m\u001b[0mresults\u001b[0m\u001b[0;34m,\u001b[0m \u001b[0mpostcomputes\u001b[0m\u001b[0;34m)\u001b[0m\u001b[0;34m]\u001b[0m\u001b[0;34m)\u001b[0m\u001b[0;34m\u001b[0m\u001b[0;34m\u001b[0m\u001b[0m\n",
      "\u001b[0;32m~/.local/lib/python3.12/site-packages/nested_pandas/nestedframe/core.py\u001b[0m in \u001b[0;36m?\u001b[0;34m()\u001b[0m\n\u001b[1;32m    543\u001b[0m         \u001b[0mkwargs\u001b[0m\u001b[0;34m[\u001b[0m\u001b[0;34m\"target\"\u001b[0m\u001b[0;34m]\u001b[0m \u001b[0;34m=\u001b[0m \u001b[0;32mNone\u001b[0m\u001b[0;34m\u001b[0m\u001b[0;34m\u001b[0m\u001b[0m\n\u001b[1;32m    544\u001b[0m         \u001b[0;31m# At present, the query expression must be either entirely within a\u001b[0m\u001b[0;34m\u001b[0m\u001b[0;34m\u001b[0m\u001b[0m\n\u001b[1;32m    545\u001b[0m         \u001b[0;31m# single nest, or have nothing but base columns.  Mixed structures are not\u001b[0m\u001b[0;34m\u001b[0m\u001b[0;34m\u001b[0m\u001b[0m\n\u001b[1;32m    546\u001b[0m         \u001b[0;31m# supported, so preflight the expression.\u001b[0m\u001b[0;34m\u001b[0m\u001b[0;34m\u001b[0m\u001b[0m\n\u001b[0;32m--> 547\u001b[0;31m         \u001b[0mnest_names\u001b[0m \u001b[0;34m=\u001b[0m \u001b[0mself\u001b[0m\u001b[0;34m.\u001b[0m\u001b[0mextract_nest_names\u001b[0m\u001b[0;34m(\u001b[0m\u001b[0mexpr\u001b[0m\u001b[0;34m,\u001b[0m \u001b[0;34m**\u001b[0m\u001b[0mkwargs\u001b[0m\u001b[0;34m)\u001b[0m\u001b[0;34m\u001b[0m\u001b[0;34m\u001b[0m\u001b[0m\n\u001b[0m\u001b[1;32m    548\u001b[0m         \u001b[0;32mif\u001b[0m \u001b[0mlen\u001b[0m\u001b[0;34m(\u001b[0m\u001b[0mnest_names\u001b[0m\u001b[0;34m)\u001b[0m \u001b[0;34m>\u001b[0m \u001b[0;36m1\u001b[0m\u001b[0;34m:\u001b[0m\u001b[0;34m\u001b[0m\u001b[0;34m\u001b[0m\u001b[0m\n\u001b[1;32m    549\u001b[0m             \u001b[0;32mraise\u001b[0m \u001b[0mValueError\u001b[0m\u001b[0;34m(\u001b[0m\u001b[0;34m\"Queries cannot target multiple structs/layers, write a separate query for each\"\u001b[0m\u001b[0;34m)\u001b[0m\u001b[0;34m\u001b[0m\u001b[0;34m\u001b[0m\u001b[0m\n\u001b[1;32m    550\u001b[0m         \u001b[0mresult\u001b[0m \u001b[0;34m=\u001b[0m \u001b[0mself\u001b[0m\u001b[0;34m.\u001b[0m\u001b[0meval\u001b[0m\u001b[0;34m(\u001b[0m\u001b[0mexpr\u001b[0m\u001b[0;34m,\u001b[0m \u001b[0;34m**\u001b[0m\u001b[0mkwargs\u001b[0m\u001b[0;34m)\u001b[0m\u001b[0;34m\u001b[0m\u001b[0;34m\u001b[0m\u001b[0m\n",
      "\u001b[0;32m~/.local/lib/python3.12/site-packages/nested_pandas/nestedframe/core.py\u001b[0m in \u001b[0;36m?\u001b[0;34m()\u001b[0m\n\u001b[1;32m    481\u001b[0m             \u001b[0mlocal_dict\u001b[0m\u001b[0;34m=\u001b[0m\u001b[0mlocal_dict\u001b[0m\u001b[0;34m,\u001b[0m\u001b[0;34m\u001b[0m\u001b[0;34m\u001b[0m\u001b[0m\n\u001b[1;32m    482\u001b[0m             \u001b[0mresolvers\u001b[0m\u001b[0;34m=\u001b[0m\u001b[0mresolvers\u001b[0m\u001b[0;34m,\u001b[0m\u001b[0;34m\u001b[0m\u001b[0;34m\u001b[0m\u001b[0m\n\u001b[1;32m    483\u001b[0m             \u001b[0mtarget\u001b[0m\u001b[0;34m=\u001b[0m\u001b[0mtarget\u001b[0m\u001b[0;34m,\u001b[0m\u001b[0;34m\u001b[0m\u001b[0;34m\u001b[0m\u001b[0m\n\u001b[1;32m    484\u001b[0m         \u001b[0;34m)\u001b[0m\u001b[0;34m\u001b[0m\u001b[0;34m\u001b[0m\u001b[0m\n\u001b[0;32m--> 485\u001b[0;31m         \u001b[0mparsed_expr\u001b[0m \u001b[0;34m=\u001b[0m \u001b[0mExpr\u001b[0m\u001b[0;34m(\u001b[0m\u001b[0mexpr\u001b[0m\u001b[0;34m,\u001b[0m \u001b[0mparser\u001b[0m\u001b[0;34m=\u001b[0m\u001b[0;34m\"nested-pandas\"\u001b[0m\u001b[0;34m,\u001b[0m \u001b[0menv\u001b[0m\u001b[0;34m=\u001b[0m\u001b[0menv\u001b[0m\u001b[0;34m)\u001b[0m\u001b[0;34m\u001b[0m\u001b[0;34m\u001b[0m\u001b[0m\n\u001b[0m\u001b[1;32m    486\u001b[0m         \u001b[0mexpr_tree\u001b[0m \u001b[0;34m=\u001b[0m \u001b[0mparsed_expr\u001b[0m\u001b[0;34m.\u001b[0m\u001b[0mterms\u001b[0m\u001b[0;34m\u001b[0m\u001b[0;34m\u001b[0m\u001b[0m\n\u001b[1;32m    487\u001b[0m         \u001b[0mseparable\u001b[0m \u001b[0;34m=\u001b[0m \u001b[0m_subexprs_by_nest\u001b[0m\u001b[0;34m(\u001b[0m\u001b[0;34m[\u001b[0m\u001b[0;34m]\u001b[0m\u001b[0;34m,\u001b[0m \u001b[0mexpr_tree\u001b[0m\u001b[0;34m)\u001b[0m\u001b[0;34m\u001b[0m\u001b[0;34m\u001b[0m\u001b[0m\n\u001b[1;32m    488\u001b[0m         \u001b[0;32mreturn\u001b[0m \u001b[0mset\u001b[0m\u001b[0;34m(\u001b[0m\u001b[0mseparable\u001b[0m\u001b[0;34m.\u001b[0m\u001b[0mkeys\u001b[0m\u001b[0;34m(\u001b[0m\u001b[0;34m)\u001b[0m\u001b[0;34m)\u001b[0m\u001b[0;34m\u001b[0m\u001b[0;34m\u001b[0m\u001b[0m\n",
      "\u001b[0;32m/sdf/group/rubin/sw/conda/envs/lsst-scipipe-10.0.0/lib/python3.12/site-packages/pandas/core/generic.py\u001b[0m in \u001b[0;36m?\u001b[0;34m()\u001b[0m\n\u001b[1;32m   6295\u001b[0m             \u001b[0;32mand\u001b[0m \u001b[0mname\u001b[0m \u001b[0;32mnot\u001b[0m \u001b[0;32min\u001b[0m \u001b[0mself\u001b[0m\u001b[0;34m.\u001b[0m\u001b[0m_accessors\u001b[0m\u001b[0;34m\u001b[0m\u001b[0;34m\u001b[0m\u001b[0m\n\u001b[1;32m   6296\u001b[0m             \u001b[0;32mand\u001b[0m \u001b[0mself\u001b[0m\u001b[0;34m.\u001b[0m\u001b[0m_info_axis\u001b[0m\u001b[0;34m.\u001b[0m\u001b[0m_can_hold_identifiers_and_holds_name\u001b[0m\u001b[0;34m(\u001b[0m\u001b[0mname\u001b[0m\u001b[0;34m)\u001b[0m\u001b[0;34m\u001b[0m\u001b[0;34m\u001b[0m\u001b[0m\n\u001b[1;32m   6297\u001b[0m         \u001b[0;34m)\u001b[0m\u001b[0;34m:\u001b[0m\u001b[0;34m\u001b[0m\u001b[0;34m\u001b[0m\u001b[0m\n\u001b[1;32m   6298\u001b[0m             \u001b[0;32mreturn\u001b[0m \u001b[0mself\u001b[0m\u001b[0;34m[\u001b[0m\u001b[0mname\u001b[0m\u001b[0;34m]\u001b[0m\u001b[0;34m\u001b[0m\u001b[0;34m\u001b[0m\u001b[0m\n\u001b[0;32m-> 6299\u001b[0;31m         \u001b[0;32mreturn\u001b[0m \u001b[0mobject\u001b[0m\u001b[0;34m.\u001b[0m\u001b[0m__getattribute__\u001b[0m\u001b[0;34m(\u001b[0m\u001b[0mself\u001b[0m\u001b[0;34m,\u001b[0m \u001b[0mname\u001b[0m\u001b[0;34m)\u001b[0m\u001b[0;34m\u001b[0m\u001b[0;34m\u001b[0m\u001b[0m\n\u001b[0m\u001b[1;32m   6300\u001b[0m \u001b[0;34m\u001b[0m\u001b[0m\n\u001b[1;32m   6301\u001b[0m     \u001b[0;34m@\u001b[0m\u001b[0mfinal\u001b[0m\u001b[0;34m\u001b[0m\u001b[0;34m\u001b[0m\u001b[0m\n\u001b[1;32m   6302\u001b[0m     \u001b[0;32mdef\u001b[0m \u001b[0m__setattr__\u001b[0m\u001b[0;34m(\u001b[0m\u001b[0mself\u001b[0m\u001b[0;34m,\u001b[0m \u001b[0mname\u001b[0m\u001b[0;34m:\u001b[0m \u001b[0mstr\u001b[0m\u001b[0;34m,\u001b[0m \u001b[0mvalue\u001b[0m\u001b[0;34m)\u001b[0m \u001b[0;34m->\u001b[0m \u001b[0;32mNone\u001b[0m\u001b[0;34m:\u001b[0m\u001b[0;34m\u001b[0m\u001b[0;34m\u001b[0m\u001b[0m\n",
      "\u001b[0;31mAttributeError\u001b[0m: 'Series' object has no attribute 'psfNdata'"
     ]
    }
   ],
   "source": [
    "rubin_data.query(\"diaSource.psfNdata > 60\").compute()"
   ]
  },
  {
   "cell_type": "code",
   "execution_count": null,
   "id": "ab669cdb-f0bc-4d53-9570-344bc61d6f62",
   "metadata": {
    "execution": {
     "iopub.execute_input": "2023-04-14T08:25:05.593506Z",
     "iopub.status.busy": "2023-04-14T08:25:05.593090Z",
     "iopub.status.idle": "2023-04-14T08:25:05.597377Z",
     "shell.execute_reply": "2023-04-14T08:25:05.596282Z",
     "shell.execute_reply.started": "2023-04-14T08:25:05.593474Z"
    },
    "tags": []
   },
   "outputs": [],
   "source": [
    "# Uncomment the following line to view the results table\n",
    "#sources"
   ]
  },
  {
   "cell_type": "markdown",
   "id": "5db1c0e6-5171-49d5-80a3-098c39017f51",
   "metadata": {},
   "source": [
    "The total number of measurements and the number of unique `DiaObjects` found are:"
   ]
  },
  {
   "cell_type": "code",
   "execution_count": null,
   "id": "77ffd7d7-cafd-49aa-b7ac-367ac2b13dfe",
   "metadata": {
    "execution": {
     "iopub.execute_input": "2023-04-14T08:25:28.848030Z",
     "iopub.status.busy": "2023-04-14T08:25:28.847224Z",
     "iopub.status.idle": "2023-04-14T08:25:28.852239Z",
     "shell.execute_reply": "2023-04-14T08:25:28.851466Z",
     "shell.execute_reply.started": "2023-04-14T08:25:28.848000Z"
    },
    "tags": []
   },
   "outputs": [],
   "source": [
    "print(len(sources), len(np.unique(sources['Object_ID'])))"
   ]
  },
  {
   "cell_type": "code",
   "execution_count": null,
   "id": "e3b79c7c-54a9-4720-94d1-36218df83a48",
   "metadata": {
    "execution": {
     "iopub.execute_input": "2023-04-14T08:25:33.052024Z",
     "iopub.status.busy": "2023-04-14T08:25:33.051278Z",
     "iopub.status.idle": "2023-04-14T08:25:33.054628Z",
     "shell.execute_reply": "2023-04-14T08:25:33.054008Z",
     "shell.execute_reply.started": "2023-04-14T08:25:33.051996Z"
    },
    "tags": []
   },
   "outputs": [],
   "source": [
    "# Uncomment the following line to save the pandas DataFrame to a pickle file\n",
    "#sources.to_pickle(\"my_sources.pkl\")"
   ]
  },
  {
   "cell_type": "code",
   "execution_count": null,
   "id": "bcfe9b2b-2cdf-4b12-a18d-6d8b085dfe08",
   "metadata": {
    "execution": {
     "iopub.execute_input": "2023-04-14T08:25:35.071319Z",
     "iopub.status.busy": "2023-04-14T08:25:35.070443Z",
     "iopub.status.idle": "2023-04-14T08:25:35.074120Z",
     "shell.execute_reply": "2023-04-14T08:25:35.073472Z",
     "shell.execute_reply.started": "2023-04-14T08:25:35.071285Z"
    },
    "tags": []
   },
   "outputs": [],
   "source": [
    "# Uncomment the following line to read the pandas DataFrame from the pickle file\n",
    "#candidate_sources = pd.read_pickle(\"my_sources.pkl\")"
   ]
  },
  {
   "cell_type": "markdown",
   "id": "7b5151a2-6bc9-438c-af5f-f94f489da854",
   "metadata": {},
   "source": [
    "### 2.2 Query Truth Tables to check if the retrieved candidates are variable stars\n",
    "\n",
    "For each one of the variable candidates retrieved in Sec. 2.1, query the `Object` table for the position (RA, DEC) of the Object of interest to find the ObjectID, specifying a very small area to search (0.001 degrees) to retrieve only the Object of interest.\n",
    "\n",
    "Then the ObjectID can be used to pick out the characteristics of interest from the Truth Tables (by use of a WHERE statement in the query and joining different tables).\n",
    "The `MatchesTruth` table provides identifying information to pick out objects that have matches to truth objects, and extract the simulated truth values from the `TruthSummary` table. This requires joining all three tables (`Object`, `MatchesTruth`, `TruthSummary`)."
   ]
  },
  {
   "cell_type": "code",
   "execution_count": null,
   "id": "ed97973d-581b-4283-804a-b1b91e3c2e3a",
   "metadata": {
    "execution": {
     "iopub.execute_input": "2023-04-14T08:27:57.174658Z",
     "iopub.status.busy": "2023-04-14T08:27:57.173922Z",
     "iopub.status.idle": "2023-04-14T08:28:59.124056Z",
     "shell.execute_reply": "2023-04-14T08:28:59.123349Z",
     "shell.execute_reply.started": "2023-04-14T08:27:57.174623Z"
    },
    "tags": []
   },
   "outputs": [],
   "source": [
    "sources_obj = pd.DataFrame()   # new DataFrame\n",
    "\n",
    "for objID in sources['Object_ID'].unique():   # for all Objects retrieved in Sec. 2.1\n",
    "    print(objID)\n",
    "    source_sel = sources[sources['Object_ID']==objID].iloc[0]   # select the first one\n",
    "    RA_sel = source_sel['RA']\n",
    "    DEC_sel = source_sel['DEC']\n",
    "    \n",
    "    query = \"SELECT TOP 100 \\n\"\\\n",
    "            \"obj.coord_ra, obj.coord_dec, obj.objectId, \\n\"\\\n",
    "            \"ts.truth_type, ts.is_variable, ts.is_pointsource, \\n\"\\\n",
    "            \"obj.detect_isPrimary, \\n\"\\\n",
    "            \"obj.refBand, obj.refExtendedness, \\n\"\\\n",
    "            \"mt.id_truth_type, mt.match_objectId \\n\"\\\n",
    "            \\\n",
    "            \"FROM dp02_dc2_catalogs.MatchesTruth AS mt \\n\"\\\n",
    "            \"JOIN dp02_dc2_catalogs.TruthSummary AS ts ON mt.id_truth_type = ts.id_truth_type \\n\"\\\n",
    "            \"JOIN dp02_dc2_catalogs.Object AS obj ON mt.match_objectId = obj.objectId \\n\"\\\n",
    "            \\\n",
    "            \"WHERE CONTAINS(POINT('ICRS', obj.coord_ra, obj.coord_dec), \\n\"\\\n",
    "            f\"CIRCLE('ICRS', {RA_sel}, {DEC_sel}, 0.001)) = 1 \\n\"\\\n",
    "            \"AND detect_isPrimary = 1\"\n",
    "\n",
    "    results = service.search(query)\n",
    "                    \n",
    "    new_objs = results.to_table().to_pandas()\n",
    "    sources_obj = pd.concat([sources_obj, new_objs], ignore_index=True)   # new resulting DataFrame"
   ]
  },
  {
   "cell_type": "code",
   "execution_count": null,
   "id": "440b6075-7e7c-4126-9aa5-c895b3094a08",
   "metadata": {
    "execution": {
     "iopub.execute_input": "2023-04-14T08:30:08.806124Z",
     "iopub.status.busy": "2023-04-14T08:30:08.805352Z",
     "iopub.status.idle": "2023-04-14T08:30:08.819245Z",
     "shell.execute_reply": "2023-04-14T08:30:08.818545Z",
     "shell.execute_reply.started": "2023-04-14T08:30:08.806094Z"
    },
    "tags": []
   },
   "outputs": [],
   "source": [
    "# View the results table\n",
    "sources_obj"
   ]
  },
  {
   "cell_type": "markdown",
   "id": "a308c482-5df5-4a10-8d3c-3daae54531c7",
   "metadata": {},
   "source": [
    "All the 14 candidates are classified as variable stars and point sources."
   ]
  },
  {
   "cell_type": "code",
   "execution_count": null,
   "id": "a4528ea6-8657-4e32-b818-72c58bfec889",
   "metadata": {
    "execution": {
     "iopub.execute_input": "2023-04-14T08:30:44.559148Z",
     "iopub.status.busy": "2023-04-14T08:30:44.558355Z",
     "iopub.status.idle": "2023-04-14T08:30:44.561965Z",
     "shell.execute_reply": "2023-04-14T08:30:44.561270Z",
     "shell.execute_reply.started": "2023-04-14T08:30:44.559118Z"
    },
    "tags": []
   },
   "outputs": [],
   "source": [
    "# Uncomment the following line to save the pandas DataFrame to a pickle file\n",
    "#sources_obj.to_pickle(\"my_sources_obj.pkl\")"
   ]
  },
  {
   "cell_type": "code",
   "execution_count": null,
   "id": "edc94cca-a473-4258-bcdb-fc528e462f7b",
   "metadata": {
    "execution": {
     "iopub.execute_input": "2023-04-14T08:30:45.560425Z",
     "iopub.status.busy": "2023-04-14T08:30:45.559600Z",
     "iopub.status.idle": "2023-04-14T08:30:45.563339Z",
     "shell.execute_reply": "2023-04-14T08:30:45.562659Z",
     "shell.execute_reply.started": "2023-04-14T08:30:45.560394Z"
    },
    "tags": []
   },
   "outputs": [],
   "source": [
    "# Uncomment the following line to read the pandas DataFrame from the pickle file\n",
    "#truth_sources = pd.read_pickle(\"my_sources_obj.pkl\")"
   ]
  },
  {
   "cell_type": "code",
   "execution_count": null,
   "id": "df2c8fdd-d4d8-44a8-be35-a7812905486f",
   "metadata": {
    "execution": {
     "iopub.execute_input": "2023-04-14T08:31:30.713086Z",
     "iopub.status.busy": "2023-04-14T08:31:30.712330Z",
     "iopub.status.idle": "2023-04-14T08:31:30.720426Z",
     "shell.execute_reply": "2023-04-14T08:31:30.719749Z",
     "shell.execute_reply.started": "2023-04-14T08:31:30.713057Z"
    },
    "tags": []
   },
   "outputs": [],
   "source": [
    "# We define a catalog using the 14 sources retrived in Sec. 2.1 including all the necessary data for our SF analysis\n",
    "catalog_df = sources[['Object_ID', 'Epoch', 'Mag', 'Filter']]\n",
    "print(catalog_df)"
   ]
  },
  {
   "cell_type": "markdown",
   "id": "5b5ff306-b7ae-452a-8884-d238a9ed1986",
   "metadata": {},
   "source": [
    "## 3. Structure Functions Analysis"
   ]
  },
  {
   "cell_type": "markdown",
   "id": "ba49ee1f-9dbc-404a-9b2a-e107102d5dbd",
   "metadata": {},
   "source": [
    "### 3.1 Define the functions implemented for the SFs analysis\n",
    "\n",
    "The implemented functions are:\n",
    "\n",
    "- **data_summary:** Gives a summary of the data used for the analysis\n",
    "- **calcSF:** Calculates the structure function\n",
    "- **SF_analysis:** Performs structure function analysis checking the data, calculating the SF (using calcSF) and plotting the results"
   ]
  },
  {
   "cell_type": "code",
   "execution_count": null,
   "id": "88cc1889-1fd8-41d0-a2ae-4025d7845438",
   "metadata": {
    "execution": {
     "iopub.execute_input": "2023-04-14T08:33:53.937461Z",
     "iopub.status.busy": "2023-04-14T08:33:53.936672Z",
     "iopub.status.idle": "2023-04-14T08:33:53.942370Z",
     "shell.execute_reply": "2023-04-14T08:33:53.941671Z",
     "shell.execute_reply.started": "2023-04-14T08:33:53.937433Z"
    },
    "tags": []
   },
   "outputs": [],
   "source": [
    "### Data summary\n",
    "\n",
    "def data_summary(df):\n",
    "    objects = df['Object_ID'].unique()   # list of unique object IDs\n",
    "    print(f\"Objects number = {objects.size}\")\n",
    "\n",
    "    print('')\n",
    "    print(f\"Objects list:\", end=\" \")\n",
    "    for obj in objects:\n",
    "        print(f\"\\n{obj}:\", end=\" \")\n",
    "        obj_data_all = df[df['Object_ID'] == obj]   # select only data related to the object\n",
    "        for filt in filters:\n",
    "            obj_data_filter = obj_data_all[obj_data_all['Filter'] == filt]   # select only data related to the filter\n",
    "            if not obj_data_filter.empty:\n",
    "                print(f\"{filt} ({len(obj_data_filter):3})\", end=\" \")\n",
    "    print('')"
   ]
  },
  {
   "cell_type": "code",
   "execution_count": null,
   "id": "8b269b3e-9a65-42b2-a95c-11879e67fdeb",
   "metadata": {
    "execution": {
     "iopub.execute_input": "2023-04-14T08:36:15.063727Z",
     "iopub.status.busy": "2023-04-14T08:36:15.062934Z",
     "iopub.status.idle": "2023-04-14T08:36:15.070366Z",
     "shell.execute_reply": "2023-04-14T08:36:15.069482Z",
     "shell.execute_reply.started": "2023-04-14T08:36:15.063698Z"
    },
    "tags": []
   },
   "outputs": [],
   "source": [
    "### Calculate structure function\n",
    "\n",
    "@njit   # accelerate the calculations\n",
    "def calcSF(taumin,taumax,tclip,fclip,nstep):\n",
    "    dtau = (np.log10(taumax) - np.log10(taumin))/nstep\n",
    "\n",
    "    tau1 = np.zeros(nstep)\n",
    "    tau2 = np.zeros(nstep)\n",
    "    N = np.zeros(nstep)\n",
    "    SF = np.zeros(nstep)\n",
    "\n",
    "    for k in range(nstep):\n",
    "        tau1[k] = 10**(np.log10(taumin) + k*dtau)\n",
    "        tau2[k] = 10**(np.log10(tau1[k]) + dtau)\n",
    "        for i in range(tclip.size):\n",
    "            # Sliced\n",
    "            dist = tclip[i:] - tclip[i]\n",
    "            sel = (dist >= tau1[k]) & (dist < tau2[k])\n",
    "            N[k] += tclip[i:][sel].size\n",
    "            if tclip[i:][sel].size > 0:\n",
    "                SF[k] += np.sum((fclip[i:][sel] - fclip[i])**2)\n",
    "        SF[k] = np.sqrt(SF[k] / N[k]) if N[k]>0 else np.nan\n",
    "    return(tau1,tau2,SF,N)\n",
    "            "
   ]
  },
  {
   "cell_type": "code",
   "execution_count": null,
   "id": "a6bff2ef-3e67-4fa1-93c8-deeca5ad92ae",
   "metadata": {
    "execution": {
     "iopub.execute_input": "2023-04-14T08:36:18.510307Z",
     "iopub.status.busy": "2023-04-14T08:36:18.509996Z",
     "iopub.status.idle": "2023-04-14T08:36:18.522406Z",
     "shell.execute_reply": "2023-04-14T08:36:18.521722Z",
     "shell.execute_reply.started": "2023-04-14T08:36:18.510285Z"
    },
    "tags": []
   },
   "outputs": [],
   "source": [
    "### Structure function analysis (calls calcSF function)    \n",
    "\n",
    "def SF_analysis(df,nstep=200,Nmin=10):\n",
    "    objects = df['Object_ID'].unique()   # list of unique object IDs\n",
    "    \n",
    "    for obj in objects:\n",
    "        fig_lc, ax_lc = plt.subplots(figsize=(10,5))   # size of figures\n",
    "        ax_lc.set_title(f'{obj}')\n",
    "        fig_sf, ax_sf = plt.subplots(figsize=(10,5))\n",
    "        ax_sf.set_title(f'{obj}')\n",
    "\n",
    "        obj_data_all = df[df['Object_ID'] == obj]   # select only data related to the object\n",
    "\n",
    "        for filt in filters:\n",
    "            obj_data_filter = obj_data_all[obj_data_all['Filter'] == filt]   # select only data related to the filter\n",
    "            if obj_data_filter.empty: continue\n",
    "            obj_data_filter = obj_data_filter.drop_duplicates(subset='Epoch', keep='first')   # drop rows with duplicated time (leaves the first one)\n",
    "            obj_data_filter.sort_values(by=['Epoch'], inplace=True)\n",
    "            obj_data = obj_data_filter[obj_data_filter['Mag'] > 0]   # select only rows with flux > 0\n",
    "            count = obj_data['Mag'].count()\n",
    "            count_init = count\n",
    "            count_old = count+1   # force entering clipping loop \n",
    "            excluded_points = [[],[]]\n",
    "            while(count_old-count > 0):   # iteratively select only data with flux within 5*sigma\n",
    "                mag_mean = obj_data['Mag'].mean()   # calculate flux average\n",
    "                mag_std = obj_data['Mag'].std(ddof=1)   # calculate standard deviation (norm with N-1)\n",
    "                print(f\"{obj}, {filt}: count={count}; mean={mag_mean}; std={mag_std}\",end=', ')\n",
    "                obj_data_excluded = obj_data[np.abs(obj_data['Mag']-mag_mean) >= 5*mag_std]\n",
    "                excluded_points[0] += obj_data_excluded['Epoch'].to_list()\n",
    "                excluded_points[1] += obj_data_excluded['Mag'].to_list()\n",
    "                obj_data = obj_data[np.abs(obj_data['Mag']-mag_mean) < 5*mag_std]   # select only data with flux within 5*sigma\n",
    "                count_old = count\n",
    "                count = obj_data['Mag'].count()\n",
    "                print(f\"count after clipping: {count}\")\n",
    "            mag_mean = obj_data['Mag'].mean()   # calculate flux average\n",
    "            mag_std = obj_data['Mag'].std(ddof=1)   # calculate standard deviation (norm with N-1)\n",
    "            print(f\"Init. count={count_init:5d}; clip count={count:5d}; mean={mag_mean:.6f}; std={mag_std:.6f}\")\n",
    "\n",
    "            # Uncomment to print the excluded points\n",
    "            #if len(excluded_points[0]) > 0:\n",
    "            #    print(f\"Excluded points: {np.array(excluded_points[0]),excluded_points[1]}\")\n",
    "\n",
    "            if obj_data.empty: continue\n",
    "\n",
    "            tclip = obj_data['Epoch'].to_numpy()\n",
    "            fclip = obj_data['Mag'].to_numpy()\n",
    "            fclip = 10**(-0.4*(fclip-np.median(fclip)))   # convert magnitudes to fluxes\n",
    "\n",
    "            dtmin = np.min(np.diff(tclip))\n",
    "            dtmax = tclip[-1]-tclip[0] \n",
    "\n",
    "            print(f\"Minimum time lag is {dtmin:.6f}, maximum time lag is {dtmax:.6f}\")\n",
    "\n",
    "            taumin = 2.*dtmin\n",
    "            taumax = 0.5*dtmax\n",
    "\n",
    "            print(f\"Minimum considered time lag is {taumin:.6f}, maximum considered time lag is {taumax:.6f}\")\n",
    "\n",
    "            tau1,tau2,SF,N = calcSF(taumin,taumax,tclip,fclip,nstep)\n",
    "\n",
    "            print('')\n",
    "            \n",
    "            # Uncomment to save the output\n",
    "            #np.savetxt('out_'+obj+'_'+filt+'.txt', np.c_[tau1, tau2, SF, N], delimiter='\\t',header=\"tau1, tau2, SF, N\")\n",
    "\n",
    "            ax_lc.plot(obj_data['Epoch'], obj_data['Mag'], label=filt, color=colors[filt], marker=symbols[filt], linewidth=0)\n",
    "            # Uncomment to plot the excluded points\n",
    "            #if len(excluded_points[0]) > 0:\n",
    "            #    ax_lc.plot(np.array(excluded_points[0]),excluded_points[1],'+',label=filt,color=colors[filt])\n",
    "            ax_sf.loglog(tau1[N>Nmin], SF[N>Nmin], label=filt, color=colors[filt], marker=symbols[filt], linewidth=0)\n",
    "\n",
    "        ax_lc.set_xlabel(\"MJD\")\n",
    "        ax_lc.set_ylabel(\"Mag\")\n",
    "        ax_lc.invert_yaxis()\n",
    "        ax_lc.grid(True)\n",
    "        ax_lc.legend()\n",
    "\n",
    "        ax_sf.set_xlabel(\"tau1\")\n",
    "        ax_sf.set_ylabel(\"SF(tau1,tau2)\")\n",
    "        ax_sf.grid(True)\n",
    "        ax_sf.legend()\n",
    "\n",
    "        print('-'*99)\n",
    "\n",
    "    plt.show()\n"
   ]
  },
  {
   "cell_type": "markdown",
   "id": "117d4d97-9ebc-49f1-9060-785e58ea214f",
   "metadata": {},
   "source": [
    "### 3.2 Application to the variable stars selected from the DP0.2 Catalogs\n",
    "\n",
    "Apply the SF analysis to the data retrieved in Section 2."
   ]
  },
  {
   "cell_type": "code",
   "execution_count": null,
   "id": "476ebd79-0e4a-4619-9f25-f66d36b214a5",
   "metadata": {
    "execution": {
     "iopub.execute_input": "2023-04-14T08:37:50.034526Z",
     "iopub.status.busy": "2023-04-14T08:37:50.033851Z",
     "iopub.status.idle": "2023-04-14T08:37:50.091421Z",
     "shell.execute_reply": "2023-04-14T08:37:50.090758Z",
     "shell.execute_reply.started": "2023-04-14T08:37:50.034482Z"
    },
    "tags": []
   },
   "outputs": [],
   "source": [
    "## How the data looks like (ObjectsID, Filters and Number of points)\n",
    "data_summary(catalog_df)"
   ]
  },
  {
   "cell_type": "markdown",
   "id": "53ecad05-5a79-46ba-a561-135a6ad33c99",
   "metadata": {},
   "source": [
    "Calculate the SF for each Object and Filter, and plot both the input lightcurve and the output SF."
   ]
  },
  {
   "cell_type": "code",
   "execution_count": null,
   "id": "60d038ef-44f1-4473-beee-605c4f9d68de",
   "metadata": {
    "execution": {
     "iopub.execute_input": "2023-04-14T08:38:06.205105Z",
     "iopub.status.busy": "2023-04-14T08:38:06.204415Z",
     "iopub.status.idle": "2023-04-14T08:38:19.902996Z",
     "shell.execute_reply": "2023-04-14T08:38:19.902220Z",
     "shell.execute_reply.started": "2023-04-14T08:38:06.205078Z"
    },
    "tags": []
   },
   "outputs": [],
   "source": [
    "SF_analysis(catalog_df,nstep=50,Nmin=2)"
   ]
  },
  {
   "cell_type": "markdown",
   "id": "6e601e22-c855-4436-94f9-c5593c9d9760",
   "metadata": {},
   "source": [
    "### 3.3 Application to two examples of variable YSOs\n",
    "\n",
    "Apply the SF analysis to Mon-63 (in NGC2264) and to V2492_Cyg (EXor) reading the datafiles provided in the current folder."
   ]
  },
  {
   "cell_type": "code",
   "execution_count": null,
   "id": "3fc29114-3e8c-4433-9ae7-411dedb6da6d",
   "metadata": {
    "execution": {
     "iopub.execute_input": "2023-04-14T08:43:02.076846Z",
     "iopub.status.busy": "2023-04-14T08:43:02.076109Z",
     "iopub.status.idle": "2023-04-14T08:43:02.085070Z",
     "shell.execute_reply": "2023-04-14T08:43:02.084386Z",
     "shell.execute_reply.started": "2023-04-14T08:43:02.076811Z"
    },
    "tags": []
   },
   "outputs": [],
   "source": [
    "## Read data file\n",
    "datafile = \"NGC2264_Mon-63_lc.txt\"\n",
    "Mon63_df = pd.read_csv(datafile, sep='\\t', header=0)   # import data as pandas dataframe\n",
    "#print(Mon63_df)"
   ]
  },
  {
   "cell_type": "code",
   "execution_count": null,
   "id": "712f3e21-a528-4567-87f4-21c5026ec7fd",
   "metadata": {
    "execution": {
     "iopub.execute_input": "2023-04-14T08:43:06.791726Z",
     "iopub.status.busy": "2023-04-14T08:43:06.791112Z",
     "iopub.status.idle": "2023-04-14T08:43:06.800934Z",
     "shell.execute_reply": "2023-04-14T08:43:06.800275Z",
     "shell.execute_reply.started": "2023-04-14T08:43:06.791693Z"
    },
    "tags": []
   },
   "outputs": [],
   "source": [
    "## Data summary\n",
    "data_summary(Mon63_df)"
   ]
  },
  {
   "cell_type": "markdown",
   "id": "c6096f88-6fd9-4999-831f-6867b671a79e",
   "metadata": {},
   "source": [
    "Calculate the SF for each Filter, and plot both the input lightcurve and the output SF."
   ]
  },
  {
   "cell_type": "code",
   "execution_count": null,
   "id": "e52a4c86-28d4-4998-9491-b8e1c95ef925",
   "metadata": {
    "execution": {
     "iopub.execute_input": "2023-04-14T08:46:57.865902Z",
     "iopub.status.busy": "2023-04-14T08:46:57.864862Z",
     "iopub.status.idle": "2023-04-14T08:46:58.958929Z",
     "shell.execute_reply": "2023-04-14T08:46:58.958243Z",
     "shell.execute_reply.started": "2023-04-14T08:46:57.865875Z"
    },
    "tags": []
   },
   "outputs": [],
   "source": [
    "SF_analysis(Mon63_df,Nmin=5)"
   ]
  },
  {
   "cell_type": "code",
   "execution_count": null,
   "id": "926ff657-bfcd-49cd-8fde-efee460180fb",
   "metadata": {
    "execution": {
     "iopub.execute_input": "2023-04-14T08:48:50.516142Z",
     "iopub.status.busy": "2023-04-14T08:48:50.515266Z",
     "iopub.status.idle": "2023-04-14T08:48:50.524925Z",
     "shell.execute_reply": "2023-04-14T08:48:50.524079Z",
     "shell.execute_reply.started": "2023-04-14T08:48:50.516103Z"
    },
    "tags": []
   },
   "outputs": [],
   "source": [
    "## Read data file\n",
    "datafile = \"V2492_Cyg_lc.txt\"\n",
    "V2492Cyg_df = pd.read_csv(datafile, sep='\\t', header=0)   # import data as pandas dataframe (EXor)\n",
    "#print(V2492Cyg_df)"
   ]
  },
  {
   "cell_type": "code",
   "execution_count": null,
   "id": "c3aadbc3-c98a-4f6b-96f1-71ba2ad459ef",
   "metadata": {
    "execution": {
     "iopub.execute_input": "2023-04-14T08:49:37.725907Z",
     "iopub.status.busy": "2023-04-14T08:49:37.725153Z",
     "iopub.status.idle": "2023-04-14T08:49:37.736861Z",
     "shell.execute_reply": "2023-04-14T08:49:37.736037Z",
     "shell.execute_reply.started": "2023-04-14T08:49:37.725879Z"
    },
    "tags": []
   },
   "outputs": [],
   "source": [
    "## Data summary\n",
    "data_summary(V2492Cyg_df)"
   ]
  },
  {
   "cell_type": "markdown",
   "id": "a9424edd-6297-4257-8512-2969c3e6945f",
   "metadata": {},
   "source": [
    "Calculate the SF for each Filter, and plot both the input lightcurve and the output SF."
   ]
  },
  {
   "cell_type": "code",
   "execution_count": null,
   "id": "7383d2e5-a53b-4ee9-8dcf-6230f581e095",
   "metadata": {
    "execution": {
     "iopub.execute_input": "2023-04-14T08:49:39.634847Z",
     "iopub.status.busy": "2023-04-14T08:49:39.634110Z",
     "iopub.status.idle": "2023-04-14T08:49:42.205042Z",
     "shell.execute_reply": "2023-04-14T08:49:42.204395Z",
     "shell.execute_reply.started": "2023-04-14T08:49:39.634821Z"
    },
    "tags": []
   },
   "outputs": [],
   "source": [
    "SF_analysis(V2492Cyg_df)"
   ]
  },
  {
   "cell_type": "markdown",
   "id": "fea15b26-6515-48af-b32e-6c62227b35d9",
   "metadata": {},
   "source": [
    "## 4. Continue exploring the data\n",
    "\n",
    "There are many further explorations one could try as extensions of this notebook. Some examples:\n",
    "\n",
    "1. Experiment with ways to select the variable objects in the Catalogs.\n",
    "2. Try to apply the SF analysis to other variable objects.\n",
    "3. Explore how the calculated SF changes when varying the nstep input parameter.\n",
    "4. Extract the characteristic statistical values for the SFs calculated.\n"
   ]
  },
  {
   "cell_type": "code",
   "execution_count": null,
   "id": "19714f63-b428-4a29-8bb2-40a277eb5258",
   "metadata": {},
   "outputs": [],
   "source": []
  }
 ],
 "metadata": {
  "kernelspec": {
   "display_name": "Python 3",
   "language": "python",
   "name": "python3"
  },
  "language_info": {
   "codemirror_mode": {
    "name": "ipython",
    "version": 3
   },
   "file_extension": ".py",
   "mimetype": "text/x-python",
   "name": "python",
   "nbconvert_exporter": "python",
   "pygments_lexer": "ipython3",
   "version": "3.11.10"
  }
 },
 "nbformat": 4,
 "nbformat_minor": 5
}
